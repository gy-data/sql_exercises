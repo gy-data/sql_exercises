{
 "cells": [
  {
   "attachments": {},
   "cell_type": "markdown",
   "metadata": {},
   "source": [
    "## ✔️ Revising Aggregations - The Count Function\n",
    "### Problem\n",
    "Query a count of the number of cities in CITY having a Population larger than **100,000**.  \n",
    "  \n",
    "**Input Format**  \n",
    "The CITY table is described as follows:  \n",
    "![image](https://s3.amazonaws.com/hr-challenge-images/8137/1449729804-f21d187d0f-CITY.jpg)\n",
    "### My answer\n",
    "- print the numer of cities\n",
    "- include only population > 100,000"
   ]
  },
  {
   "cell_type": "code",
   "execution_count": 2,
   "metadata": {},
   "outputs": [
    {
     "data": {
      "text/plain": [
       "'\\nSELECT COUNT(*)\\nFROM city\\nWHERE population > 100000\\n;'"
      ]
     },
     "execution_count": 2,
     "metadata": {},
     "output_type": "execute_result"
    }
   ],
   "source": [
    "\"\"\"\n",
    "SELECT COUNT(*)\n",
    "FROM city\n",
    "WHERE population > 100000\n",
    ";\"\"\"\n"
   ]
  },
  {
   "attachments": {},
   "cell_type": "markdown",
   "metadata": {},
   "source": [
    "## ✔️ Revising Aggregations - The Sum Function\n",
    "### Problem\n",
    "Query the total population of all cities in CITY where District is California.  \n",
    "  \n",
    "**Input Format**  \n",
    "  \n",
    "The CITY table is described as follows:  \n",
    "![image](https://s3.amazonaws.com/hr-challenge-images/8137/1449729804-f21d187d0f-CITY.jpg)\n",
    "### My answer\n",
    "- "
   ]
  },
  {
   "cell_type": "code",
   "execution_count": null,
   "metadata": {},
   "outputs": [],
   "source": []
  }
 ],
 "metadata": {
  "kernelspec": {
   "display_name": "Python 3",
   "language": "python",
   "name": "python3"
  },
  "language_info": {
   "codemirror_mode": {
    "name": "ipython",
    "version": 3
   },
   "file_extension": ".py",
   "mimetype": "text/x-python",
   "name": "python",
   "nbconvert_exporter": "python",
   "pygments_lexer": "ipython3",
   "version": "3.11.0"
  },
  "orig_nbformat": 4,
  "vscode": {
   "interpreter": {
    "hash": "df76e625265485bd39c09c1804da6b94c201756de6b2c63317c524cd928e5a08"
   }
  }
 },
 "nbformat": 4,
 "nbformat_minor": 2
}
