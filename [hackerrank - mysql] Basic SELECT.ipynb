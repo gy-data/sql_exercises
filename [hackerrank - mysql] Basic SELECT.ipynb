{
 "cells": [
  {
   "attachments": {},
   "cell_type": "markdown",
   "metadata": {},
   "source": [
    "## ✔️ Revising the Select Query I\n",
    "### 문제\n",
    "Query all columns for all American cities in the CITY table with populations larger than 100000.  The CountryCode for America is USA. The CITY table is described as follows:  \n",
    "![image](https://s3.amazonaws.com/hr-challenge-images/8137/1449729804-f21d187d0f-CITY.jpg)\n",
    "### 접근\n",
    "- 100,000명 이상의 인구 & countrycode가 USA인 데이터만 where로 필터링\n",
    "### 풀이"
   ]
  },
  {
   "cell_type": "code",
   "execution_count": 1,
   "metadata": {},
   "outputs": [
    {
     "data": {
      "text/plain": [
       "\"\\nSELECT *\\nFROM city\\nWHERE population > 100000 \\nAND countrycode = 'USA';\\n\""
      ]
     },
     "execution_count": 1,
     "metadata": {},
     "output_type": "execute_result"
    }
   ],
   "source": [
    "\"\"\"\n",
    "SELECT *\n",
    "FROM city\n",
    "WHERE population > 100000 \n",
    "AND countrycode = 'USA';\n",
    "\"\"\"\n"
   ]
  },
  {
   "attachments": {},
   "cell_type": "markdown",
   "metadata": {},
   "source": [
    "## ✔️ Revising the Select Query II\n",
    "### 문제\n",
    "Query the NAME field for all American cities in the CITY table with populations larger than 120000. The CountryCode for America is USA. The CITY table is described as follows:  \n",
    "![image](https://s3.amazonaws.com/hr-challenge-images/8137/1449729804-f21d187d0f-CITY.jpg)\n",
    "### 접근\n",
    "- countrycode가 usa & 인구가 120,000초과인 것만 where로 필터링\n",
    "- name 컬럼만 조회\n",
    "### 풀이"
   ]
  },
  {
   "cell_type": "code",
   "execution_count": 2,
   "metadata": {},
   "outputs": [
    {
     "data": {
      "text/plain": [
       "\"\\nSELECT name\\nFROM city\\nWHERE population > 120000\\nAND countrycode = 'usa';\\n\""
      ]
     },
     "execution_count": 2,
     "metadata": {},
     "output_type": "execute_result"
    }
   ],
   "source": [
    "\"\"\"\n",
    "SELECT name\n",
    "FROM city\n",
    "WHERE population > 120000\n",
    "AND countrycode = 'usa';\n",
    "\"\"\"\n"
   ]
  },
  {
   "attachments": {},
   "cell_type": "markdown",
   "metadata": {},
   "source": [
    "## ✔️ Select All\n",
    "### 문제\n",
    "Query all columns (attributes) for every row in the CITY table. The CITY table is described as follows:  \n",
    "![image](https://s3.amazonaws.com/hr-challenge-images/8137/1449729804-f21d187d0f-CITY.jpg)\n",
    "### 접근\n",
    "- city테이블에 있는 모든 컬럼 조회\n",
    "### 풀이"
   ]
  },
  {
   "cell_type": "code",
   "execution_count": 3,
   "metadata": {},
   "outputs": [
    {
     "data": {
      "text/plain": [
       "'\\nSELECT *\\nFROM city;\\n'"
      ]
     },
     "execution_count": 3,
     "metadata": {},
     "output_type": "execute_result"
    }
   ],
   "source": [
    "\"\"\"\n",
    "SELECT *\n",
    "FROM city;\n",
    "\"\"\"\n"
   ]
  },
  {
   "attachments": {},
   "cell_type": "markdown",
   "metadata": {},
   "source": [
    "## ✔️ Select By ID\n",
    "### 문제\n",
    "Query all columns for a city in CITY with the ID 1661. The CITY table is described as follows:  \n",
    "![image](https://s3.amazonaws.com/hr-challenge-images/8137/1449729804-f21d187d0f-CITY.jpg)\n",
    "### 접근\n",
    "- id가 1661인 것만 where로 필터링\n",
    "### 풀이"
   ]
  },
  {
   "cell_type": "code",
   "execution_count": 4,
   "metadata": {},
   "outputs": [
    {
     "data": {
      "text/plain": [
       "'\\nSELECT *\\nFROM city\\nWHERE id = 1661;\\n'"
      ]
     },
     "execution_count": 4,
     "metadata": {},
     "output_type": "execute_result"
    }
   ],
   "source": [
    "\"\"\"\n",
    "SELECT *\n",
    "FROM city\n",
    "WHERE id = 1661;\n",
    "\"\"\"\n"
   ]
  },
  {
   "attachments": {},
   "cell_type": "markdown",
   "metadata": {},
   "source": [
    "## ✔️ Japanese Cities' Attributes\n",
    "### 문제\n",
    "Query all attributes of every Japanese city in the CITY table. The COUNTRYCODE for Japan is JPN. The CITY table is described as follows:  \n",
    "![image](https://s3.amazonaws.com/hr-challenge-images/8137/1449729804-f21d187d0f-CITY.jpg)\n",
    "### 접근\n",
    "- countrycode가 jpn인 것만 where로 필터링\n",
    "### 풀이"
   ]
  },
  {
   "cell_type": "code",
   "execution_count": 5,
   "metadata": {},
   "outputs": [
    {
     "data": {
      "text/plain": [
       "\" \\nSELECT *\\nFROM city\\nWHERE countrycode = 'jpn';\\n\""
      ]
     },
     "execution_count": 5,
     "metadata": {},
     "output_type": "execute_result"
    }
   ],
   "source": [
    "\"\"\" \n",
    "SELECT *\n",
    "FROM city\n",
    "WHERE countrycode = 'jpn';\n",
    "\"\"\""
   ]
  },
  {
   "attachments": {},
   "cell_type": "markdown",
   "metadata": {},
   "source": [
    "## ✔️ Japanese Cities' Names\n",
    "### 문제\n",
    "Query the names of all the Japanese cities in the CITY table. The COUNTRYCODE for Japan is JPN. The CITY table is described as follows:  \n",
    "![image](https://s3.amazonaws.com/hr-challenge-images/8137/1449729804-f21d187d0f-CITY.jpg)\n",
    "### 접근\n",
    "- countrycode가 jpn인 것만 where로 필터링\n",
    "- name만 조회\n",
    "### 풀이"
   ]
  },
  {
   "cell_type": "code",
   "execution_count": 6,
   "metadata": {},
   "outputs": [
    {
     "data": {
      "text/plain": [
       "\" \\nSELECT name\\nFROM city\\nWHERE countrycode = 'jpn';\\n\""
      ]
     },
     "execution_count": 6,
     "metadata": {},
     "output_type": "execute_result"
    }
   ],
   "source": [
    "\"\"\" \n",
    "SELECT name\n",
    "FROM city\n",
    "WHERE countrycode = 'jpn';\n",
    "\"\"\"\n"
   ]
  },
  {
   "attachments": {},
   "cell_type": "markdown",
   "metadata": {},
   "source": [
    "## ✔️ Weather Observation Station 1\n",
    "### 문제\n",
    "Query a list of CITY and STATE from the STATION table.  \n",
    "The STATION table is described as follows:  \n",
    "![image](https://s3.amazonaws.com/hr-challenge-images/9336/1449345840-5f0a551030-Station.jpg)  \n",
    "where LAT_N is the northern latitude and LONG_W is the western longitude.\n",
    "### 접근\n",
    "- city, state 컬럼만 조회\n",
    "### 풀이"
   ]
  },
  {
   "cell_type": "code",
   "execution_count": 7,
   "metadata": {},
   "outputs": [
    {
     "data": {
      "text/plain": [
       "' \\nSELECT city, state\\nFROM station;\\n'"
      ]
     },
     "execution_count": 7,
     "metadata": {},
     "output_type": "execute_result"
    }
   ],
   "source": [
    "\"\"\" \n",
    "SELECT city, state\n",
    "FROM station;\n",
    "\"\"\""
   ]
  },
  {
   "attachments": {},
   "cell_type": "markdown",
   "metadata": {},
   "source": [
    "## ✔️ Weather Observation Station 3\n",
    "### 문제\n",
    "Query a list of CITY names from STATION for cities that have an even ID number. Print the results in any order, but exclude duplicates from the answer.  \n",
    "The STATION table is described as follows:  \n",
    "![image](https://s3.amazonaws.com/hr-challenge-images/9336/1449345840-5f0a551030-Station.jpg)  \n",
    "where LAT_N is the northern latitude and LONG_W is the western longitude.\n",
    "### 접근\n",
    "- id가 짝수( id % 2 = 0 )인 것만 필터링\n",
    "- 중복 없이( distinct ) city 컬럼만 조회"
   ]
  },
  {
   "cell_type": "code",
   "execution_count": 8,
   "metadata": {},
   "outputs": [
    {
     "data": {
      "text/plain": [
       "'\\nSELECT DISTINCT city\\nFROM station\\nWHERE id % 2 = 0;\\n'"
      ]
     },
     "execution_count": 8,
     "metadata": {},
     "output_type": "execute_result"
    }
   ],
   "source": [
    "\"\"\"\n",
    "SELECT DISTINCT city\n",
    "FROM station\n",
    "WHERE id % 2 = 0;\n",
    "\"\"\"\n"
   ]
  },
  {
   "attachments": {},
   "cell_type": "markdown",
   "metadata": {},
   "source": [
    "## ✔️ Weather Observation Station 4\n",
    "### 문제\n",
    "Find the difference between the total number of CITY entries in the table and the number of distinct CITY entries in the table.  \n",
    "The STATION table is described as follows:  \n",
    "![image](https://s3.amazonaws.com/hr-challenge-images/9336/1449345840-5f0a551030-Station.jpg)  \n",
    "where LAT_N is the northern latitude and LONG_W is the western longitude.  \n",
    "For example, if there are three records in the table with CITY values 'New York', 'New York', 'Bengalaru', there are 2 different city names: 'New York' and 'Bengalaru'.  \n",
    "The query returns 1, because **\"total number of records - number of unique city names = 3 - 2 = 1\"**\n",
    "### 접근\n",
    "- 중복 허용한 city 수 count해서 total number of records\n",
    "- 중복없이 city 수 count해서 number of unique city names\n",
    "- 두 변수 뺸 값 출력"
   ]
  },
  {
   "cell_type": "code",
   "execution_count": 9,
   "metadata": {},
   "outputs": [
    {
     "data": {
      "text/plain": [
       "'\\nSELECT COUNT(city) - COUNT(DISTINCT city)\\nFROM station;\\n '"
      ]
     },
     "execution_count": 9,
     "metadata": {},
     "output_type": "execute_result"
    }
   ],
   "source": [
    "\"\"\"\n",
    "SELECT COUNT(city) - COUNT(DISTINCT city)\n",
    "FROM station;\n",
    " \"\"\"\n"
   ]
  },
  {
   "attachments": {},
   "cell_type": "markdown",
   "metadata": {},
   "source": [
    "## ✔️ Weather Observation Station 5\n",
    "### 문제\n",
    "Query the two cities in STATION with the shortest and longest CITY names, as well as their respective lengths (i.e.: number of characters in the name). If there is more than one smallest or largest city, choose the one that comes first when ordered alphabetically.  \n",
    "The STATION table is described as follows:  \n",
    "![image](https://s3.amazonaws.com/hr-challenge-images/9336/1449345840-5f0a551030-Station.jpg)  \n",
    "where LAT_N is the northern latitude and LONG_W is the western longitude.  \n",
    "**Sample Input**  \n",
    "For example, CITY has four entries: DEF, ABC, PQRS and WXY.  \n",
    "**Explanation**  \n",
    "When ordered alphabetically, the CITY names are listed as ABC, DEF, PQRS, and WXY, with lengths 3, 3, 4, and 3. The longest name is PQRS, but there are 3 options for shortest named city. Choose ABC, because it comes first alphabetically.  \n",
    "**Note**  \n",
    "You can write two separate queries to get the desired output. It need not be a single query.\n",
    "### 접근\n",
    "- length로 city의 글자 수 세서 l_city 컬럼 생성\n",
    "- l_city 기준 asc, city 기준 asc 정렬해서 가장 짧은 도시 이름 길이 구함\n",
    "- l_city 기준 desc, city 기준 asc 정렬해서 가장 긴 도시 이름 길이 구함\n",
    "- city, l_city만 조회\n",
    "### 풀이"
   ]
  },
  {
   "cell_type": "code",
   "execution_count": 10,
   "metadata": {},
   "outputs": [
    {
     "data": {
      "text/plain": [
       "'\\nSELECT city, LENGTH(city) AS l_city\\nFROM station\\nORDER BY l_city, city\\nLIMIT 1;\\nSELECT city, LENGTH(city) AS l_city\\nFROM station\\nORDER BY l_city DESC, city\\nLIMIT 1;\\n'"
      ]
     },
     "execution_count": 10,
     "metadata": {},
     "output_type": "execute_result"
    }
   ],
   "source": [
    "\"\"\"\n",
    "SELECT city, LENGTH(city) AS l_city\n",
    "FROM station\n",
    "ORDER BY l_city, city\n",
    "LIMIT 1;\n",
    "SELECT city, LENGTH(city) AS l_city\n",
    "FROM station\n",
    "ORDER BY l_city DESC, city\n",
    "LIMIT 1;\n",
    "\"\"\"\n"
   ]
  },
  {
   "attachments": {},
   "cell_type": "markdown",
   "metadata": {},
   "source": [
    "## ✔️ Weather Observation Station 6\n",
    "### 문제\n",
    "Query the list of CITY names starting with vowels (i.e., a, e, i, o, or u) from STATION. Your result cannot contain duplicates.  \n",
    "Input Format  \n",
    "The STATION table is described as follows:  \n",
    "![image](https://s3.amazonaws.com/hr-challenge-images/9336/1449345840-5f0a551030-Station.jpg)  \n",
    "where LAT_N is the northern latitude and LONG_W is the western longitude.\n",
    "### 접근\n",
    "- left함수로 가져온 city의 첫글자가 vowel인 것만 where, in 사용해서 필터링\n",
    "- city만 조회\n",
    "### 풀이"
   ]
  },
  {
   "cell_type": "code",
   "execution_count": 13,
   "metadata": {},
   "outputs": [
    {
     "data": {
      "text/plain": [
       "\"\\nSELECT DISTINCT city\\nFROM station\\nWHERE LEFT(city, 1) IN ('a','e','i','o','u');\\n\""
      ]
     },
     "execution_count": 13,
     "metadata": {},
     "output_type": "execute_result"
    }
   ],
   "source": [
    "\"\"\"\n",
    "SELECT DISTINCT city\n",
    "FROM station\n",
    "WHERE LEFT(city, 1) IN ('a','e','i','o','u');\n",
    "\"\"\"\n"
   ]
  },
  {
   "attachments": {},
   "cell_type": "markdown",
   "metadata": {},
   "source": [
    "## ✔️ Weather Observation Station 7\n",
    "### 문제\n",
    "Query the list of CITY names ending with vowels (a, e, i, o, u) from STATION. Your result cannot contain duplicates.  \n",
    "**Input Format**  \n",
    "The STATION table is described as follows:  \n",
    "![image](https://s3.amazonaws.com/hr-challenge-images/9336/1449345840-5f0a551030-Station.jpg)  \n",
    "where LAT_N is the northern latitude and LONG_W is the western longitude.\n",
    "### 접근\n",
    "- right함수로 city의 마지막 글자가 vowel인 것만 in, where로 필터링\n",
    "- 중복없는 city 조회\n"
   ]
  },
  {
   "cell_type": "code",
   "execution_count": 12,
   "metadata": {},
   "outputs": [
    {
     "data": {
      "text/plain": [
       "\"\\nSELECT DISTINCT city\\nFROM station\\nWHERE RIGHT(city, 1) IN ('a','e','i','o','u');\\n\""
      ]
     },
     "execution_count": 12,
     "metadata": {},
     "output_type": "execute_result"
    }
   ],
   "source": [
    "\"\"\"\n",
    "SELECT DISTINCT city\n",
    "FROM station\n",
    "WHERE RIGHT(city, 1) IN ('a','e','i','o','u');\n",
    "\"\"\"\n"
   ]
  },
  {
   "attachments": {},
   "cell_type": "markdown",
   "metadata": {},
   "source": [
    "## ✔️ Weather Observation Station 8\n",
    "### 문제\n",
    "Query the list of CITY names from STATION which have vowels (i.e., a, e, i, o, and u) as both their first and last characters. Your result cannot contain duplicates.  \n",
    "**Input Format**  \n",
    "The STATION table is described as follows:  \n",
    "![image](https://s3.amazonaws.com/hr-challenge-images/9336/1449345840-5f0a551030-Station.jpg)  \n",
    "where LAT_N is the northern latitude and LONG_W is the western longitude.\n",
    "### 접근\n",
    "- left함수로 첫 글자가 모음 & right함수로 마지막 글자가 모음인 것만 in, where 사용해서 필터링\n",
    "- 중복없이 city만 조회"
   ]
  },
  {
   "cell_type": "code",
   "execution_count": 14,
   "metadata": {},
   "outputs": [
    {
     "data": {
      "text/plain": [
       "\"\\nSELECT DISTINCT city\\nFROM station\\nWHERE LEFT(city, 1) IN ('a','e','i','o','u')\\nAND RIGHT(city, 1) IN ('a','e','i','o','u');\\n\""
      ]
     },
     "execution_count": 14,
     "metadata": {},
     "output_type": "execute_result"
    }
   ],
   "source": [
    "\"\"\"\n",
    "SELECT DISTINCT city\n",
    "FROM station\n",
    "WHERE LEFT(city, 1) IN ('a','e','i','o','u')\n",
    "AND RIGHT(city, 1) IN ('a','e','i','o','u');\n",
    "\"\"\"\n"
   ]
  },
  {
   "attachments": {},
   "cell_type": "markdown",
   "metadata": {},
   "source": [
    "## ✔️ Weather Observation Station 9\n",
    "### 문제\n",
    "Query the list of CITY names from STATION that do not start with vowels. Your result cannot contain duplicates.  \n",
    "**Input Format**  \n",
    "The STATION table is described as follows:  \n",
    "![image](https://s3.amazonaws.com/hr-challenge-images/9336/1449345840-5f0a551030-Station.jpg)  \n",
    "where LAT_N is the northern latitude and LONG_W is the western longitude.\n",
    "### 접근\n",
    "- left함수로 첫 글자가 vowel이 아닌 것만 필터링하기 위해 not in, where 사용\n",
    "- 중복없이 city만 조회\n",
    "### 풀이"
   ]
  },
  {
   "cell_type": "code",
   "execution_count": 15,
   "metadata": {},
   "outputs": [
    {
     "data": {
      "text/plain": [
       "\"\\nSELECT DISTINCT city\\nFROM station\\nWHERE LEFT(city, 1) NOT IN ('a','e','i','o','u');\\n\""
      ]
     },
     "execution_count": 15,
     "metadata": {},
     "output_type": "execute_result"
    }
   ],
   "source": [
    "\"\"\"\n",
    "SELECT DISTINCT city\n",
    "FROM station\n",
    "WHERE LEFT(city, 1) NOT IN ('a','e','i','o','u');\n",
    "\"\"\"\n"
   ]
  },
  {
   "attachments": {},
   "cell_type": "markdown",
   "metadata": {},
   "source": [
    "## ✔️ Weather Observation Station 10\n",
    "### 문제\n",
    "Query the list of CITY names from STATION that do not end with vowels. Your result cannot contain duplicates.   \n",
    "**Input Format**  \n",
    "The STATION table is described as follows:  \n",
    "![image](https://s3.amazonaws.com/hr-challenge-images/9336/1449345840-5f0a551030-Station.jpg)  where LAT_N is the northern latitude and LONG_W is the western longitude.  \n",
    "### 접근\n",
    "- right함수로 마지막글자 가져와서 모음이 아닌 것만 not in, where 사용해서 필터링\n",
    "- 중복없이 도시만 추출\n",
    "### 풀이"
   ]
  },
  {
   "cell_type": "code",
   "execution_count": 16,
   "metadata": {},
   "outputs": [
    {
     "data": {
      "text/plain": [
       "\"\\nSELECT DISTINCT city\\nFROM station\\nWHERE RIGHT(city, 1) NOT IN ('a','e','i','o','u');\\n\""
      ]
     },
     "execution_count": 16,
     "metadata": {},
     "output_type": "execute_result"
    }
   ],
   "source": [
    "\"\"\"\n",
    "SELECT DISTINCT city\n",
    "FROM station\n",
    "WHERE RIGHT(city, 1) NOT IN ('a','e','i','o','u');\n",
    "\"\"\"\n"
   ]
  },
  {
   "attachments": {},
   "cell_type": "markdown",
   "metadata": {},
   "source": [
    "## ✔️ Weather Observation Station 11\n",
    "### 문제\n",
    "Query the list of CITY names from STATION that either do not start with vowels or do not end with vowels. Your result cannot contain duplicates.  \n",
    "**Input Format**  \n",
    "The STATION table is described as follows:  \n",
    "![image](https://s3.amazonaws.com/hr-challenge-images/9336/1449345840-5f0a551030-Station.jpg)  \n",
    "where LAT_N is the northern latitude and LONG_W is the western longitude.  \n",
    "### 접근\n",
    "- left함수로 첫글자 가져와서 모음이 아닌 것 또는 right함수로 마지막글자 가져와서 모음이 아닌 것 not in, where 사용해서 필터링\n",
    "- 중복없이 도시만 조회\n",
    "### 풀이"
   ]
  },
  {
   "cell_type": "code",
   "execution_count": 18,
   "metadata": {},
   "outputs": [
    {
     "data": {
      "text/plain": [
       "\"SELECT DISTINCT city\\nFROM station\\nWHERE LEFT(city, 1) NOT IN ('a','e','i','o','u')\\nOR RIGHT(city, 1) NOT IN ('a','e','i','o','u');\""
      ]
     },
     "execution_count": 18,
     "metadata": {},
     "output_type": "execute_result"
    }
   ],
   "source": [
    "\"\"\"SELECT DISTINCT city\n",
    "FROM station\n",
    "WHERE LEFT(city, 1) NOT IN ('a','e','i','o','u')\n",
    "OR RIGHT(city, 1) NOT IN ('a','e','i','o','u');\"\"\"\n"
   ]
  },
  {
   "attachments": {},
   "cell_type": "markdown",
   "metadata": {},
   "source": [
    "## ✔️ Weather Observation Station 12\n",
    "### 문제\n",
    "Query the list of CITY names from STATION that do not start with vowels and do not end with vowels. Your result cannot contain duplicates.   \n",
    "**Input Format**  \n",
    "The STATION table is described as follows:  \n",
    "![image](https://s3.amazonaws.com/hr-challenge-images/9336/1449345840-5f0a551030-Station.jpg)  \n",
    "where LAT_N is the northern latitude and LONG_W is the western longitude.\n",
    "### 접근\n",
    "- left함수로 첫글자 가져와서 모음 아닌 것 & right함수로 마지막글자 가져와서 모음 아닌 것 not in, where 사용해서 필터링\n",
    "- 중복없이 도시만 조회\n",
    "### 풀이"
   ]
  },
  {
   "cell_type": "code",
   "execution_count": 19,
   "metadata": {},
   "outputs": [
    {
     "data": {
      "text/plain": [
       "\"SELECT DISTINCT city\\nFROM station\\nWHERE LEFT(city, 1) NOT IN ('a','e','i','o','u')\\nAND RIGHT(city, 1) NOT IN ('a','e','i','o','u');\""
      ]
     },
     "execution_count": 19,
     "metadata": {},
     "output_type": "execute_result"
    }
   ],
   "source": [
    "\"\"\"SELECT DISTINCT city\n",
    "FROM station\n",
    "WHERE LEFT(city, 1) NOT IN ('a','e','i','o','u')\n",
    "AND RIGHT(city, 1) NOT IN ('a','e','i','o','u');\"\"\"\n"
   ]
  },
  {
   "attachments": {},
   "cell_type": "markdown",
   "metadata": {},
   "source": [
    "## ✔️ Higher Than 75 Marks\n",
    "### Problem\n",
    "Query the Name of any student in STUDENTS who scored higher than  Marks. Order your output by the last three characters of each name. If two or more students both have names ending in the same last three characters (i.e.: Bobby, Robby, etc.), secondary sort them by ascending ID.  \n",
    "**Input Format**  \n",
    "The STUDENTS table is described as follows:  \n",
    "![image](https://s3.amazonaws.com/hr-challenge-images/12896/1443815243-94b941f556-1.png)  \n",
    "The Name column only contains uppercase (A-Z) and lowercase (a-z) letters.  \n",
    "**Sample Input**  \n",
    "![image](https://s3.amazonaws.com/hr-challenge-images/12896/1443815209-cf4b260993-2.png)  \n",
    "**Explanation**  \n",
    "Only Ashley, Julia, and Belvet have Marks > **75**. If you look at the last three characters of each of their names, there are no duplicates and 'ley' < 'lia' < 'vet'.\n",
    "### My answer\n",
    "- marks가 75 초과인 것만 where절로 필터링\n",
    "- 이름만 조회\n",
    "- right함수 사용해서 이름의 마지막 3자 기준 asc, id 기준 asc 정렬"
   ]
  },
  {
   "cell_type": "code",
   "execution_count": 20,
   "metadata": {},
   "outputs": [
    {
     "data": {
      "text/plain": [
       "'SELECT name\\nFROM students\\nWHERE marks > 75\\nORDER BY RIGHT(name, 3), id;'"
      ]
     },
     "execution_count": 20,
     "metadata": {},
     "output_type": "execute_result"
    }
   ],
   "source": [
    "\"\"\"SELECT name\n",
    "FROM students\n",
    "WHERE marks > 75\n",
    "ORDER BY RIGHT(name, 3), id;\"\"\"\n"
   ]
  },
  {
   "attachments": {},
   "cell_type": "markdown",
   "metadata": {},
   "source": [
    "## ✔️ Employee Names\n",
    "### Problem\n",
    "Write a query that prints a list of employee names (i.e.: the name attribute) from the Employee table in alphabetical order.  \n",
    "**Input Format**  \n",
    "The Employee table containing employee data for a company is described as follows:  \n",
    "![image](https://s3.amazonaws.com/hr-challenge-images/19629/1458557872-4396838885-ScreenShot2016-03-21at4.27.13PM.png)  \n",
    "where employee_id is an employee's ID number, name is their name, months is the total number of months they've been working for the company, and salary is their monthly salary.  \n",
    "**Sample Input**  \n",
    "![image](https://s3.amazonaws.com/hr-challenge-images/19629/1458558202-9a8721e44b-ScreenShot2016-03-21at4.32.59PM.png)\n",
    "### My answer\n",
    "- 직원 이름만 조회\n",
    "- 이름 기준 asc 정렬"
   ]
  },
  {
   "cell_type": "code",
   "execution_count": 21,
   "metadata": {},
   "outputs": [
    {
     "data": {
      "text/plain": [
       "'SELECT name\\nFROM employee\\nORDER BY name;'"
      ]
     },
     "execution_count": 21,
     "metadata": {},
     "output_type": "execute_result"
    }
   ],
   "source": [
    "\"\"\"SELECT name\n",
    "FROM employee\n",
    "ORDER BY name;\"\"\"\n"
   ]
  },
  {
   "attachments": {},
   "cell_type": "markdown",
   "metadata": {},
   "source": [
    "## ✔️ Employee Salaries\n",
    "### Problem\n",
    "Write a query that prints a list of employee names (i.e.: the name attribute) for employees in Employee having a salary greater than  per month who have been employees for less than  months. Sort your result by ascending employee_id.  \n",
    "**Input Format**  \n",
    "The Employee table containing employee data for a company is described as follows:  \n",
    "![image](https://s3.amazonaws.com/hr-challenge-images/19629/1458557872-4396838885-ScreenShot2016-03-21at4.27.13PM.png)  \n",
    "where employee_id is an employee's ID number, name is their name, months is the total number of months they've been working for the company, and salary is the their monthly salary.  \n",
    "**Sample Input**  \n",
    "![image](https://s3.amazonaws.com/hr-challenge-images/19630/1458558612-af3da3ceb7-ScreenShot2016-03-21at4.32.59PM.png)  \n",
    "**Explanation**  \n",
    "Angela has been an employee for **1** month and earns **$3443** per month.  \n",
    "Michael has been an employee for **6** months and earns **$2017** per month.  \n",
    "Todd has been an employee for **5** months and earns **$3396** per month.  \n",
    "Joe has been an employee for **9** months and earns **$3573** per month.  \n",
    "We order our output by ascending employee_id.\n",
    "### My answer\n",
    "- salary > $2000 & months < 10 인 것만 where로 필터링\n",
    "- employee name만 조회\n",
    "- employee_id 기준 asc 정렬"
   ]
  },
  {
   "cell_type": "code",
   "execution_count": 23,
   "metadata": {},
   "outputs": [
    {
     "data": {
      "text/plain": [
       "'SELECT name\\nFROM employee\\nWHERE salary > 2000\\nAND months < 10\\nORDER BY employee_id;'"
      ]
     },
     "execution_count": 23,
     "metadata": {},
     "output_type": "execute_result"
    }
   ],
   "source": [
    "\"\"\"SELECT name\n",
    "FROM employee\n",
    "WHERE salary > 2000\n",
    "AND months < 10\n",
    "ORDER BY employee_id;\"\"\""
   ]
  }
 ],
 "metadata": {
  "kernelspec": {
   "display_name": "Python 3.10.8 64-bit",
   "language": "python",
   "name": "python3"
  },
  "language_info": {
   "codemirror_mode": {
    "name": "ipython",
    "version": 3
   },
   "file_extension": ".py",
   "mimetype": "text/x-python",
   "name": "python",
   "nbconvert_exporter": "python",
   "pygments_lexer": "ipython3",
   "version": "3.10.8"
  },
  "orig_nbformat": 4,
  "vscode": {
   "interpreter": {
    "hash": "aee8b7b246df8f9039afb4144a1f6fd8d2ca17a180786b69acc140d282b71a49"
   }
  }
 },
 "nbformat": 4,
 "nbformat_minor": 2
}
