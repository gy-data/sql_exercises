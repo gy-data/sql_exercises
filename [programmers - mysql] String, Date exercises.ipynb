{
 "cells": [
  {
   "cell_type": "markdown",
   "metadata": {},
   "source": [
    "## ✔️ DATETIME에서 DATE로 형 변환\n",
    "### 문제\n",
    "![image](https://img1.daumcdn.net/thumb/R1280x0/?scode=mtistory2&fname=https%3A%2F%2Fblog.kakaocdn.net%2Fdn%2FxvZr8%2Fbtqx9WEIOHS%2FRQrVDkK6VHhjCUAMCDGH7k%2Fimg.png)\n",
    "### 접근\n",
    "- datetime을 년월일만 추출하기 위해 date_format을 사용\n",
    "- 아이디, 이름, 날짜만 조회\n",
    "- 아이디 기준 asc 정렬\n",
    "### 풀이"
   ]
  },
  {
   "cell_type": "code",
   "execution_count": 1,
   "metadata": {},
   "outputs": [
    {
     "data": {
      "text/plain": [
       "\"\\nSELECT animal_id, name\\n    , DATE_FORMAT(datetime, '%Y-%m-%d') AS '날짜'\\nFROM animal_ins\\nORDER BY animal_id;\\n\""
      ]
     },
     "execution_count": 1,
     "metadata": {},
     "output_type": "execute_result"
    }
   ],
   "source": [
    "\"\"\"\n",
    "SELECT animal_id, name\n",
    "    , DATE_FORMAT(datetime, '%Y-%m-%d') AS '날짜'\n",
    "FROM animal_ins\n",
    "ORDER BY animal_id;\n",
    "\"\"\""
   ]
  },
  {
   "cell_type": "markdown",
   "metadata": {},
   "source": [
    "## ✔️ 카테고리 별 상품 개수 구하기\n",
    "### 문제\n",
    "![image](https://velog.velcdn.com/images/tkddud95920/post/43ee032b-659d-4544-ab9f-751eb7481d61/image.png)\n",
    "### 접근\n",
    "- product_code에 따라 그룹화하여 count해서 products 컬럼 생성 \n",
    "- pordict_code의 앞 두자만 left함수로 추출해서 category 컬럼 생성\n",
    "- 상품 카테고리 코드 기준 asc 정렬\n",
    "### 풀이"
   ]
  },
  {
   "cell_type": "code",
   "execution_count": 2,
   "metadata": {},
   "outputs": [
    {
     "data": {
      "text/plain": [
       "' \\nSELECT LEFT(product_code, 2) AS category\\n    , COUNT(*) AS products\\nFROM product\\nGROUP BY category\\nORDER BY category;\\n'"
      ]
     },
     "execution_count": 2,
     "metadata": {},
     "output_type": "execute_result"
    }
   ],
   "source": [
    "\"\"\" \n",
    "SELECT LEFT(product_code, 2) AS category\n",
    "    , COUNT(*) AS products\n",
    "FROM product\n",
    "GROUP BY category\n",
    "ORDER BY category;\n",
    "\"\"\"\n"
   ]
  },
  {
   "cell_type": "markdown",
   "metadata": {},
   "source": [
    "## ✔️ 중성화 여부 파악하기\n",
    "### 문제\n",
    "![image](https://blog.kakaocdn.net/dn/baDLpX/btqx8UANuzv/EOxK9H6mTlrqIFwh4hIJ5k/img.png)\n",
    "### 접근\n",
    "- if문으로 sex_upon_intake이 neutered나 spayed가 있는 경우 O로, 없으면 X로 중성화 컬럼 생성\n",
    "- animal_id, name, 중성화 컬럼만 조회\n",
    "- 아이디 기준 asc 정렬\n",
    "### 풀이\n"
   ]
  },
  {
   "cell_type": "code",
   "execution_count": 3,
   "metadata": {},
   "outputs": [
    {
     "data": {
      "text/plain": [
       "\" \\nSELECT animal_id, name\\n    , CASE WHEN SEX_UPON_INTAKE LIKE 'Neutered%' THEN 'O'\\n        WHEN SEX_UPON_INTAKE LIKE 'spayed%' THEN 'O'\\n        ELSE 'X'\\n    END AS '중성화'\\nFROM animal_ins\\nORDER BY animal_id;\\n\""
      ]
     },
     "execution_count": 3,
     "metadata": {},
     "output_type": "execute_result"
    }
   ],
   "source": [
    "# IF문 사용\n",
    "\"\"\" \n",
    "SELECT animal_id, name\n",
    "    , IF(sex_upon_intake LIKE '%spayed%' \n",
    "         OR sex_upon_intake LIKE '%neutered%'\n",
    "         , 'O', 'X') AS '중성화'\n",
    "FROM animal_ins\n",
    "ORDER BY animal_id;\n",
    "\"\"\"\n",
    "\n",
    "# CASE문 사용\n",
    "\"\"\" \n",
    "SELECT animal_id, name\n",
    "    , CASE WHEN SEX_UPON_INTAKE LIKE 'Neutered%' THEN 'O'\n",
    "        WHEN SEX_UPON_INTAKE LIKE 'spayed%' THEN 'O'\n",
    "        ELSE 'X'\n",
    "    END AS '중성화'\n",
    "FROM animal_ins\n",
    "ORDER BY animal_id;\n",
    "\"\"\""
   ]
  },
  {
   "cell_type": "markdown",
   "metadata": {},
   "source": [
    "## ✔️ 이름에 el들어가는 동물 찾기\n",
    "### 문제\n",
    "![image](https://postfiles.pstatic.net/MjAyMTA4MjlfMTc4/MDAxNjMwMjIyMjYwNzkx.YLhJoUTEvgXlu8C_8zyl5q6imRkOmyBs-16mvDy_0FEg.0ZYmEgQyOhrzRlfM8JAPA4LR1hF-18YbWCghW6GVwiog.PNG.joonbread/image.png?type=w580)\n",
    "### 접근\n",
    "- 이름 중 el만 들어가는 개만 like, where로 필터링\n",
    "- 아이디, 이름만 조회\n",
    "- 이름 기준 asc 정렬\n",
    "### 풀이"
   ]
  },
  {
   "cell_type": "code",
   "execution_count": 5,
   "metadata": {},
   "outputs": [
    {
     "data": {
      "text/plain": [
       "' \\nSELECT animal_id, name\\nFROM animal_ins\\nWHERE name LIKE \"%el%\"\\nAND animal_type = \"dog\"\\nORDER BY name;\\n'"
      ]
     },
     "execution_count": 5,
     "metadata": {},
     "output_type": "execute_result"
    }
   ],
   "source": [
    "\"\"\" \n",
    "SELECT animal_id, name\n",
    "FROM animal_ins\n",
    "WHERE name LIKE \"%el%\"\n",
    "AND animal_type = \"dog\"\n",
    "ORDER BY name;\n",
    "\"\"\""
   ]
  },
  {
   "cell_type": "markdown",
   "metadata": {},
   "source": [
    "## ✔️ 루시와 엘라 찾기\n",
    "### 문제\n",
    "![image](https://velog.velcdn.com/images%2Fcosmos%2Fpost%2Fc638ade6-7feb-4521-b2a6-743b9344ebe6%2F%E1%84%89%E1%85%B3%E1%84%8F%E1%85%B3%E1%84%85%E1%85%B5%E1%86%AB%E1%84%89%E1%85%A3%E1%86%BA%202021-09-11%20%E1%84%8B%E1%85%A9%E1%84%92%E1%85%AE%204.10.40.png)\n",
    "### 접근\n",
    "- 동물 이름 in, where로 필터링\n",
    "- 아이디, 이름, 성별 및 중성화 여부만 조회\n",
    "### 풀이"
   ]
  },
  {
   "cell_type": "code",
   "execution_count": 6,
   "metadata": {},
   "outputs": [
    {
     "data": {
      "text/plain": [
       "\" \\nSELECT animal_id, name, sex_upon_intake\\nFROM animal_ins\\nWHERE name IN('ella','lucy','pickle','rogan','sabrina','mitty');\\n\""
      ]
     },
     "execution_count": 6,
     "metadata": {},
     "output_type": "execute_result"
    }
   ],
   "source": [
    "\"\"\" \n",
    "SELECT animal_id, name, sex_upon_intake\n",
    "FROM animal_ins\n",
    "WHERE name IN('ella','lucy','pickle','rogan','sabrina','mitty');\n",
    "\"\"\""
   ]
  },
  {
   "cell_type": "markdown",
   "metadata": {},
   "source": [
    "## ✔️ 오랜 기간 보호한 동물(2)\n",
    "### 문제\n",
    "![iamge](https://blog.kakaocdn.net/dn/cjPHAE/btqzFAmv6KE/LAPFO1Kd7HmeMXblrd1921/img.png)\n",
    "### 접근\n",
    "- animal_id를 키로 animal_outs테이블 기준으로 animal_ins테이블을 left join\n",
    "- 아이디, 이름만 조회\n",
    "- 보호기간 이 긴 순으로 -> desc 정렬\n",
    "- 두 마리만 limit\n",
    "### 풀이"
   ]
  },
  {
   "cell_type": "code",
   "execution_count": 11,
   "metadata": {},
   "outputs": [
    {
     "data": {
      "text/plain": [
       "'\\nSELECT o.animal_id, o.name\\nFROM animal_outs AS o\\nLEFT JOIN animal_ins AS i\\nON i.animal_id = o.animal_id\\nORDER BY TIMESTAMPDIFF(day, i.datetime, o.datetime) DESC\\nlimit 2;\\n'"
      ]
     },
     "execution_count": 11,
     "metadata": {},
     "output_type": "execute_result"
    }
   ],
   "source": [
    "# 단순 뺄셈 사용\n",
    "\"\"\"\n",
    "SELECT o.animal_id, o.name\n",
    "FROM animal_outs AS o\n",
    "LEFT JOIN animal_ins AS i\n",
    "ON i.animal_id = o.animal_id\n",
    "ORDER BY (o.datetime-i.datetime) DESC\n",
    "limit 2;\n",
    "\"\"\"\n",
    "# timestampdiff 함수 사용\n",
    "\"\"\"\n",
    "SELECT o.animal_id, o.name\n",
    "FROM animal_outs AS o\n",
    "LEFT JOIN animal_ins AS i\n",
    "ON i.animal_id = o.animal_id\n",
    "ORDER BY TIMESTAMPDIFF(day, i.datetime, o.datetime) DESC\n",
    "limit 2;\n",
    "\"\"\"\n"
   ]
  },
  {
   "cell_type": "markdown",
   "metadata": {},
   "source": [
    "## ✔️ 조건별로 분류하여 주문상태 출력하기\n",
    "### 문제\n",
    "![image](https://velog.velcdn.com/images/iami0731/post/ab008257-7ab7-4aba-bf65-ca675f7d59c6/image.png)\n",
    "### 접근\n",
    "- case를 사용해서 out_date가 5/1까지는 촐고완료, 이후는 출고대기, null이면 출고미정을 값으로 갖는 출고여부 컬럼 생성\n",
    "- 주문id, 제품id, 출고일자, 출고여부 조회\n",
    "- 주문id 기준 asc 정렬\n",
    "### 풀이"
   ]
  },
  {
   "cell_type": "code",
   "execution_count": 12,
   "metadata": {},
   "outputs": [
    {
     "data": {
      "text/plain": [
       "\"\\nSELECT order_id, product_id, DATE_FORMAT(out_date, '%Y-%m-%d') AS out_date\\n    , CASE \\n        WHEN DATE_FORMAT(out_date, '%Y-%m-%d') <= '2022-05-01' THEN '출고완료'\\n        WHEN DATE_FORMAT(out_date, '%Y-%m-%d') >'2022-05-01' THEN '출고대기'\\n        ELSE '출고미정'\\n      END AS '출고여부'\\nFROM food_order\\nORDER BY order_id;\\n\""
      ]
     },
     "execution_count": 12,
     "metadata": {},
     "output_type": "execute_result"
    }
   ],
   "source": [
    "\"\"\"\n",
    "SELECT order_id, product_id, DATE_FORMAT(out_date, '%Y-%m-%d') AS out_date\n",
    "    , CASE \n",
    "        WHEN DATE_FORMAT(out_date, '%Y-%m-%d') <= '2022-05-01' THEN '출고완료'\n",
    "        WHEN DATE_FORMAT(out_date, '%Y-%m-%d') >'2022-05-01' THEN '출고대기'\n",
    "        ELSE '출고미정'\n",
    "      END AS '출고여부'\n",
    "FROM food_order\n",
    "ORDER BY order_id;\n",
    "\"\"\"\n"
   ]
  },
  {
   "cell_type": "markdown",
   "metadata": {},
   "source": [
    "## ✔️ 취소되지 않은 진료 예약 조회하기\n",
    "### 문제\n",
    "![image](https://velog.velcdn.com/images/tkddud95920/post/319efd39-4b7d-4e6f-bc09-0ba5778a9a92/image.png)\n",
    "![image](https://velog.velcdn.com/images/tkddud95920/post/8e83d82e-e079-4b09-85dd-bc26e69522c7/image.png)\n",
    "![image](https://velog.velcdn.com/images/tkddud95920/post/e16aa472-f687-417c-be1f-7d826a8970ac/image.png)\n",
    "### 접근\n",
    "- pt_no를 키로 appointment테이블 기준으로 patient테이블 left join\n",
    "- 의사id를 키로 appointment테이블 기준으로 doctor테이블 left join\n",
    "- apnt_ymd가 2022-04-13 & apnt_cncl_yn이 n & 진료과코드가 흉부외과(cs) 인 데이터 where로 필터링\n",
    "- 진료예약번호, 환자이름, 환자번호, 진료과코드, 의사이름, 진료예약일시 조회\n",
    "- 진료예약일시 기준 asc 정렬\n",
    "### 풀이"
   ]
  },
  {
   "cell_type": "code",
   "execution_count": 14,
   "metadata": {},
   "outputs": [
    {
     "data": {
      "text/plain": [
       "\"\\nSELECT a.apnt_no, p.pt_name, p.pt_no, d.mcdp_cd, d.dr_name, a.apnt_ymd\\nFROM appointment AS a\\nLEFT JOIN patient AS p\\nON a.pt_no = p.pt_no\\nLEFT JOIN doctor AS d\\nON a.mddr_id = d.dr_id\\nWHERE a.apnt_ymd LIKE '%2022-04-13%'\\nAND a.apnt_cncl_yn = 'n'\\nAND d.mcdp_cd = 'cs'\\nORDER BY a.apnt_ymd;\\n\""
      ]
     },
     "execution_count": 14,
     "metadata": {},
     "output_type": "execute_result"
    }
   ],
   "source": [
    "\"\"\"\n",
    "SELECT a.apnt_no, p.pt_name, p.pt_no, d.mcdp_cd, d.dr_name, a.apnt_ymd\n",
    "FROM appointment AS a\n",
    "LEFT JOIN patient AS p\n",
    "ON a.pt_no = p.pt_no\n",
    "LEFT JOIN doctor AS d\n",
    "ON a.mddr_id = d.dr_id\n",
    "WHERE a.apnt_ymd LIKE '%2022-04-13%'\n",
    "AND a.apnt_cncl_yn = 'n'\n",
    "AND d.mcdp_cd = 'cs'\n",
    "ORDER BY a.apnt_ymd;\n",
    "\"\"\"\n"
   ]
  },
  {
   "cell_type": "code",
   "execution_count": null,
   "metadata": {},
   "outputs": [],
   "source": []
  }
 ],
 "metadata": {
  "kernelspec": {
   "display_name": "Python 3.10.8 64-bit",
   "language": "python",
   "name": "python3"
  },
  "language_info": {
   "codemirror_mode": {
    "name": "ipython",
    "version": 3
   },
   "file_extension": ".py",
   "mimetype": "text/x-python",
   "name": "python",
   "nbconvert_exporter": "python",
   "pygments_lexer": "ipython3",
   "version": "3.10.8"
  },
  "orig_nbformat": 4,
  "vscode": {
   "interpreter": {
    "hash": "aee8b7b246df8f9039afb4144a1f6fd8d2ca17a180786b69acc140d282b71a49"
   }
  }
 },
 "nbformat": 4,
 "nbformat_minor": 2
}
