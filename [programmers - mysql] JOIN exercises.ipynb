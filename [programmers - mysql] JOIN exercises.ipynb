{
 "cells": [
  {
   "cell_type": "markdown",
   "metadata": {},
   "source": [
    "## ✔️ 상품 별 오프라인 매출 구하기\n",
    "\n",
    "### 문제\n",
    "![image](https://img1.daumcdn.net/thumb/R1280x0/?scode=mtistory2&fname=https%3A%2F%2Fblog.kakaocdn.net%2Fdn%2FQmmAm%2FbtrQRFXQKQi%2FHwTcJPDkEslP2vAYGMRzJ0%2Fimg.png)\n",
    "### 접근\n",
    "- offline_sale테이블 기준으로 product_id에 따라 product테이블을 left join\n",
    "- 상품코드로 group by한 다음 판매가랑 판매량 곱해서 sum 출력\n",
    "- 매출액에 따라 desc, 상품코드에 따라 asc 정렬\n",
    "### 풀이"
   ]
  },
  {
   "cell_type": "code",
   "execution_count": 1,
   "metadata": {},
   "outputs": [
    {
     "data": {
      "text/plain": [
       "'\\nSELECT p.product_code\\n    , SUM(p.price * o.sales_amount) AS sales\\nFROM offline_sale AS o\\nLEFT JOIN product AS p\\nON o.product_id = p.product_id\\nGROUP BY p.product_code\\nORDER BY sales DESC, p.product_code;\\n'"
      ]
     },
     "execution_count": 1,
     "metadata": {},
     "output_type": "execute_result"
    }
   ],
   "source": [
    "\"\"\"\n",
    "SELECT p.product_code\n",
    "    , SUM(p.price * o.sales_amount) AS sales\n",
    "FROM offline_sale AS o\n",
    "LEFT JOIN product AS p\n",
    "ON o.product_id = p.product_id\n",
    "GROUP BY p.product_code\n",
    "ORDER BY sales DESC, p.product_code;\n",
    "\"\"\""
   ]
  },
  {
   "cell_type": "markdown",
   "metadata": {},
   "source": [
    "## ✔️ 있었는데요 없었습니다\n",
    "\n",
    "### 문제\n",
    "![image](https://img1.daumcdn.net/thumb/R1280x0/?scode=mtistory2&fname=https%3A%2F%2Fblog.kakaocdn.net%2Fdn%2FbGcsKv%2Fbtqx6ABBdhp%2F8jsoy8EFgDnOoCU7Ot2Ks1%2Fimg.png)\n",
    "### 접근\n",
    "- animal_ins테이블을 기준으로 animal_id에 따라 animal_outs테이블을 left join\n",
    "- animal_ins테이블의 datetime이 animal_outs테이블의 datetime보다 큰 데이터만 where절로 필터링 \n",
    "-> sql에서 날짜, 시간 등의 대소 비교는 시간이 더 빠를 수록 작은 값으로 판단\n",
    "- animal_ins테이블의 datetime에 따라 asc 정렬\n",
    "### 풀이"
   ]
  },
  {
   "cell_type": "code",
   "execution_count": 3,
   "metadata": {},
   "outputs": [
    {
     "data": {
      "text/plain": [
       "'\\nSELECT i.animal_id, i.name\\nFROM animal_ins AS i\\nLEFT JOIN animal_outs AS o\\nON i.animal_id = o.animal_id\\nWHERE i.datetime > o.datetime\\nORDER BY i.datetime;\\n'"
      ]
     },
     "execution_count": 3,
     "metadata": {},
     "output_type": "execute_result"
    }
   ],
   "source": [
    "\"\"\"\n",
    "SELECT i.animal_id, i.name\n",
    "FROM animal_ins AS i\n",
    "LEFT JOIN animal_outs AS o\n",
    "ON i.animal_id = o.animal_id\n",
    "WHERE i.datetime > o.datetime\n",
    "ORDER BY i.datetime;\n",
    "\"\"\"\n"
   ]
  },
  {
   "cell_type": "markdown",
   "metadata": {},
   "source": [
    "## ✔️ 오랜 기간 보호한 동물(1)\n",
    "### 문제\n",
    "![image](https://img1.daumcdn.net/thumb/R1280x0/?scode=mtistory2&fname=https%3A%2F%2Fblog.kakaocdn.net%2Fdn%2FoSC7g%2Fbtqx6ZCmdbR%2FZFkaYPWyjWU45PcdJw81G1%2Fimg.png)\n",
    "### 접근\n",
    "- animal_id를 키로 animal_ins테이블 기준으로 animal_outs테이블을 left join\n",
    "- animal_outs의 animal_id이 null값인 데이터만 where로 필터링\n",
    "- 오래 있었던 동물 순으로 3마리만 limit\n",
    "- 보호 시작일에 따라 asc 정렬\n",
    "### 풀이"
   ]
  },
  {
   "cell_type": "code",
   "execution_count": 4,
   "metadata": {},
   "outputs": [
    {
     "data": {
      "text/plain": [
       "'\\nSELECT i.name, i.datetime\\nFROM animal_ins AS i\\nLEFT JOIN animal_outs AS o\\nON i.animal_id = o.animal_id\\nWHERE o.animal_id IS NULL\\nORDER BY i.datetime\\nlimit 3;\\n'"
      ]
     },
     "execution_count": 4,
     "metadata": {},
     "output_type": "execute_result"
    }
   ],
   "source": [
    "\"\"\"\n",
    "SELECT i.name, i.datetime\n",
    "FROM animal_ins AS i\n",
    "LEFT JOIN animal_outs AS o\n",
    "ON i.animal_id = o.animal_id\n",
    "WHERE o.animal_id IS NULL\n",
    "ORDER BY i.datetime\n",
    "limit 3;\n",
    "\"\"\"\n"
   ]
  },
  {
   "cell_type": "markdown",
   "metadata": {},
   "source": [
    "## ✔️ 조건에 맞는 도서와 저자 리스트 출력하기\n",
    "### 문제\n",
    "![image](https://velog.velcdn.com/images/tae__juni/post/0b3e391e-f7c9-49b1-be9b-d6700c9ec392/image.png)\n",
    "### 접근\n",
    "- author_id를 키로 book테이블을 기준으로 author테이블을 left join\n",
    "- 카테고리가 경제인 것만 where절로 필터링\n",
    "- 도서id, 저자명, 출판일만 출력 & 출판일은 date_format으로 년월일만 출력\n",
    "- 출판일에 따라 asc 정렬\n",
    "### 풀이"
   ]
  },
  {
   "cell_type": "code",
   "execution_count": 5,
   "metadata": {},
   "outputs": [
    {
     "data": {
      "text/plain": [
       "'\\nSELECT b.book_id, a.author_name\\n    , DATE_FORMAT(b.published_date, \\'%Y-%m-%d\\') AS published_date\\nFROM book AS b\\nLEFT JOIN author AS a\\nON b.author_id=a.author_id\\nWHERE b.category = \"경제\"\\nORDER BY b.published_date;\\n'"
      ]
     },
     "execution_count": 5,
     "metadata": {},
     "output_type": "execute_result"
    }
   ],
   "source": [
    "\"\"\"\n",
    "SELECT b.book_id, a.author_name\n",
    "    , DATE_FORMAT(b.published_date, '%Y-%m-%d') AS published_date\n",
    "FROM book AS b\n",
    "LEFT JOIN author AS a\n",
    "ON b.author_id=a.author_id\n",
    "WHERE b.category = \"경제\"\n",
    "ORDER BY b.published_date;\n",
    "\"\"\""
   ]
  },
  {
   "cell_type": "markdown",
   "metadata": {},
   "source": [
    "## ✔️ 없어진 기록 찾기\n",
    "### 문제\n",
    "![image](https://img1.daumcdn.net/thumb/R1280x0/?scode=mtistory2&fname=https%3A%2F%2Fblog.kakaocdn.net%2Fdn%2FXUivn%2FbtqBLkbEJe1%2F0ujiipfwHecyP3XYhfOdqK%2Fimg.png)\n",
    "### 접근\n",
    "- animal_id를 키로 animal_outs테이블 기준으로 animal_ins테이블 left join\n",
    "- animal_id와 name만 추출\n",
    "- animal_id에 따라 asc 정렬\n",
    "- animal_ins에 animal_id가 null값만 where로 필터링\n",
    "### 풀이"
   ]
  },
  {
   "cell_type": "code",
   "execution_count": 6,
   "metadata": {},
   "outputs": [
    {
     "data": {
      "text/plain": [
       "'\\nSELECT o.animal_id, o.name\\nFROM animal_outs AS o\\nLEFT JOIN animal_ins AS i\\nON o.animal_id = i.animal_id\\nWHERE i.animal_id IS NULL\\nORDER BY o.animal_id;\\n'"
      ]
     },
     "execution_count": 6,
     "metadata": {},
     "output_type": "execute_result"
    }
   ],
   "source": [
    "\n",
    "\"\"\"\n",
    "SELECT o.animal_id, o.name\n",
    "FROM animal_outs AS o\n",
    "LEFT JOIN animal_ins AS i\n",
    "ON o.animal_id = i.animal_id\n",
    "WHERE i.animal_id IS NULL\n",
    "ORDER BY o.animal_id;\n",
    "\"\"\" "
   ]
  },
  {
   "cell_type": "markdown",
   "metadata": {},
   "source": [
    "## ✔️ 보호소에서 중성화한 동물\n",
    "### 문제\n",
    "![image](https://velog.velcdn.com/images/milk-maca/post/dbdbdf2a-6774-4c46-8728-53087f32d6eb/image.png)\n",
    "### 접근\n",
    "- 동물id를 키로 animal_ins테이블 기준으로 animal_outs테이블 left join\n",
    "- animal_ins의 성별과 animal_outs의 성별이 다른 걸 where로 필터링\n",
    "- 동물id, 동물 종, 이름만 추출\n",
    "- 아이디에 따라 asc 정렬\n",
    "### 풀이"
   ]
  },
  {
   "cell_type": "code",
   "execution_count": 7,
   "metadata": {},
   "outputs": [
    {
     "data": {
      "text/plain": [
       "'\\nSELECT i.animal_id, i.animal_type, i.name\\nFROM animal_ins AS i\\nLEFT JOIN animal_outs AS o\\nON i.animal_id = o.animal_id\\nWHERE i.sex_upon_intake != o.sex_upon_outcome\\nORDER BY i.animal_id;\\n'"
      ]
     },
     "execution_count": 7,
     "metadata": {},
     "output_type": "execute_result"
    }
   ],
   "source": [
    "\"\"\"\n",
    "SELECT i.animal_id, i.animal_type, i.name\n",
    "FROM animal_ins AS i\n",
    "LEFT JOIN animal_outs AS o\n",
    "ON i.animal_id = o.animal_id\n",
    "WHERE i.sex_upon_intake != o.sex_upon_outcome\n",
    "ORDER BY i.animal_id;\n",
    "\"\"\"\n"
   ]
  },
  {
   "cell_type": "markdown",
   "metadata": {},
   "source": [
    "## ✔️ 그룹별 조건에 맞는 식당 목록 출력하기\n",
    "### 문제\n",
    "![image](https://velog.velcdn.com/images/cosmos/post/8a9922e9-cd2f-46c8-867e-bd4e31a7aa6f/image.png)\n",
    "### 접근\n",
    "- rest_review테이블에서 회원아이디로 그룹화해서 리뷰수로 desc 정렬 후 가장 많이 작성한 회원을 서브쿼리로 뽑은 다음, member_profile 테이블에서 동일한 회원아이디 필터링\n",
    "- member_id를 키로 rest_review테이블 기준으로 member_profile테이블 left join\n",
    "- member_profile에서 회원이름, rest_review에서 리뷰텍스트, 리뷰작성일 추출 & 리뷰작성일은 date_format으로 연월일만 추출\n",
    "- 리뷰작성일 기준 asc, 리뷰텍스트 기준 asc 정렬\n",
    "### 풀이"
   ]
  },
  {
   "cell_type": "code",
   "execution_count": 8,
   "metadata": {},
   "outputs": [
    {
     "data": {
      "text/plain": [
       "\"\\nSELECT m.member_name, r.review_text\\n    , DATE_FORMAT(r.review_date, '%Y-%m-%d') AS review_date\\nFROM rest_review AS r\\nLEFT JOIN member_profile AS m\\nON r.member_id = m.member_id\\nWHERE m.member_id = (SELECT member_id \\n                     FROM rest_review \\n                     GROUP BY member_id\\n                     ORDER BY COUNT(r.member_id) DESC\\n                     LIMIT 1)\\nORDER BY r.review_date, r.review_text;\\n\""
      ]
     },
     "execution_count": 8,
     "metadata": {},
     "output_type": "execute_result"
    }
   ],
   "source": [
    "\"\"\"\n",
    "SELECT m.member_name, r.review_text\n",
    "    , DATE_FORMAT(r.review_date, '%Y-%m-%d') AS review_date\n",
    "FROM rest_review AS r\n",
    "LEFT JOIN member_profile AS m\n",
    "ON r.member_id = m.member_id\n",
    "WHERE m.member_id = (SELECT member_id \n",
    "                     FROM rest_review \n",
    "                     GROUP BY member_id\n",
    "                     ORDER BY COUNT(r.member_id) DESC\n",
    "                     LIMIT 1)\n",
    "ORDER BY r.review_date, r.review_text;\n",
    "\"\"\"\n"
   ]
  },
  {
   "cell_type": "markdown",
   "metadata": {},
   "source": [
    "## ✔️ 주문량이 많은 아이스크림들 조회하기\n",
    "### 문제\n",
    "![image](https://velog.velcdn.com/images/psy4072/post/1831e7b6-f813-4559-b1e6-cd1ac97bc545/image.png)\n",
    "### 접근\n",
    "- flavor를 키로 상반기 테이블에 7월 테이블 left join\n",
    "- flavor로 groupby해서 order by를 주문수 desc로 정렬\n",
    "- 맛만 추출\n",
    "- 상위 3개만 limit\n",
    "### 풀이"
   ]
  },
  {
   "cell_type": "code",
   "execution_count": 9,
   "metadata": {},
   "outputs": [
    {
     "data": {
      "text/plain": [
       "'\\nSELECT f.flavor \\nFROM first_half AS f\\nLEFT JOIN july AS j\\nON f.flavor = j.flavor\\nGROUP BY f.flavor\\nORDER BY (f.total_order + SUM(j.total_order)) DESC\\nLIMIT 3;\\n'"
      ]
     },
     "execution_count": 9,
     "metadata": {},
     "output_type": "execute_result"
    }
   ],
   "source": [
    "\"\"\"\n",
    "SELECT f.flavor \n",
    "FROM first_half AS f\n",
    "LEFT JOIN july AS j\n",
    "ON f.flavor = j.flavor\n",
    "GROUP BY f.flavor\n",
    "ORDER BY (f.total_order + SUM(j.total_order)) DESC\n",
    "LIMIT 3;\n",
    "\"\"\""
   ]
  },
  {
   "cell_type": "markdown",
   "metadata": {},
   "source": [
    "## ✔️ 5월 식품들의 총매출 조회하기\n"
   ]
  },
  {
   "cell_type": "code",
   "execution_count": null,
   "metadata": {},
   "outputs": [],
   "source": []
  }
 ],
 "metadata": {
  "kernelspec": {
   "display_name": "Python 3.10.8 64-bit",
   "language": "python",
   "name": "python3"
  },
  "language_info": {
   "codemirror_mode": {
    "name": "ipython",
    "version": 3
   },
   "file_extension": ".py",
   "mimetype": "text/x-python",
   "name": "python",
   "nbconvert_exporter": "python",
   "pygments_lexer": "ipython3",
   "version": "3.10.8"
  },
  "orig_nbformat": 4,
  "vscode": {
   "interpreter": {
    "hash": "aee8b7b246df8f9039afb4144a1f6fd8d2ca17a180786b69acc140d282b71a49"
   }
  }
 },
 "nbformat": 4,
 "nbformat_minor": 2
}
