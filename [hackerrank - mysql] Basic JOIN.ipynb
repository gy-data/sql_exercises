{
 "cells": [
  {
   "attachments": {},
   "cell_type": "markdown",
   "metadata": {},
   "source": [
    "## ✔️ Population Census\n",
    "### Problem\n",
    "Given the CITY and COUNTRY tables, query the sum of the populations of all cities where the CONTINENT is 'Asia'.  \n",
    "  \n",
    "**Note**: CITY.CountryCode and COUNTRY.Code are matching key columns.  \n",
    "  \n",
    "**Input Format**  \n",
    "The CITY and COUNTRY tables are described as follows:  \n",
    "![image](https://s3.amazonaws.com/hr-challenge-images/8137/1449729804-f21d187d0f-CITY.jpg)  \n",
    "![image](https://s3.amazonaws.com/hr-challenge-images/8342/1449769013-e54ce90480-Country.jpg)  \n",
    "### My answer\n",
    "- city 테이블의 population을 sum 함수로 합하여 추출\n",
    "- city의 countrycode와 country의 code를 키로 사용해서 JOIN\n",
    "- continent가 asia인 데이터만 where 사용해서 필터링\n"
   ]
  },
  {
   "cell_type": "code",
   "execution_count": 5,
   "metadata": {},
   "outputs": [
    {
     "data": {
      "text/plain": [
       "\"\\nSELECT SUM(i.population)\\nFROM city AS i\\nJOIN country AS o\\nON o.code = i.countrycode\\nWHERE o.continent = 'asia'\\n;\""
      ]
     },
     "execution_count": 5,
     "metadata": {},
     "output_type": "execute_result"
    }
   ],
   "source": [
    "\"\"\"\n",
    "SELECT SUM(i.population)\n",
    "FROM city AS i\n",
    "JOIN country AS o\n",
    "ON o.code = i.countrycode\n",
    "WHERE o.continent = 'asia'\n",
    ";\"\"\"\n"
   ]
  },
  {
   "attachments": {},
   "cell_type": "markdown",
   "metadata": {},
   "source": [
    "## ✔️ African Cities\n",
    "### Problem\n",
    "Given the CITY and COUNTRY tables, query the names of all cities where the CONTINENT is 'Africa'.  \n",
    "  \n",
    "**Note**: CITY.CountryCode and COUNTRY.Code are matching key columns.  \n",
    "  \n",
    "Input Format  \n",
    "The CITY and COUNTRY tables are described as follows:  \n",
    "![image](https://s3.amazonaws.com/hr-challenge-images/8137/1449729804-f21d187d0f-CITY.jpg)  \n",
    "![image](https://s3.amazonaws.com/hr-challenge-images/8342/1449769013-e54ce90480-Country.jpg)\n",
    "### My answer\n",
    "- city 테이블의 name만 조회\n",
    "- city의 countrycode와 country의 code를 키로 사용해서 JOIN\n",
    "- continent가 africa인 데이터만 where 사용해서 필터링"
   ]
  },
  {
   "cell_type": "code",
   "execution_count": 6,
   "metadata": {},
   "outputs": [
    {
     "data": {
      "text/plain": [
       "\"\\nSELECT ci.name\\nFROM city as ci\\nJOIN country as co\\nON ci.countrycode=co.code\\nWHERE co.continent = 'africa'\\n;\""
      ]
     },
     "execution_count": 6,
     "metadata": {},
     "output_type": "execute_result"
    }
   ],
   "source": [
    "\"\"\"\n",
    "SELECT ci.name\n",
    "FROM city as ci\n",
    "JOIN country as co\n",
    "ON ci.countrycode=co.code\n",
    "WHERE co.continent = 'africa'\n",
    ";\"\"\"\n"
   ]
  },
  {
   "attachments": {},
   "cell_type": "markdown",
   "metadata": {},
   "source": [
    "## ✔️ Average Population of Each Continent\n",
    "### Problem\n",
    "Given the CITY and COUNTRY tables, query the names of all the continents (COUNTRY.Continent) and their respective average city populations (CITY.Population) rounded down to the nearest integer.  \n",
    "  \n",
    "**Note**: CITY.CountryCode and COUNTRY.Code are matching key columns.  \n",
    "  \n",
    "**Input Format**  \n",
    "The CITY and COUNTRY tables are described as follows:  \n",
    "![image](https://s3.amazonaws.com/hr-challenge-images/8137/1449729804-f21d187d0f-CITY.jpg)  \n",
    "![image](https://s3.amazonaws.com/hr-challenge-images/8342/1449769013-e54ce90480-Country.jpg)\n",
    "### My answer\n",
    "- country테이블의 continent은 null값 없이 조회\n",
    "- city테이블의 countrycode와 country테이블의 code를 키로 사용해서 JOIN\n",
    "- continent를 그룹화하여 population의 평균을 avg함수로 구한 다음 floor 함수를 사용해 소수점 이하 버림"
   ]
  },
  {
   "cell_type": "code",
   "execution_count": 7,
   "metadata": {},
   "outputs": [
    {
     "data": {
      "text/plain": [
       "'\\nSELECT o.continent\\n    , FLOOR(AVG(i.population)) AS ap\\nFROM city AS i\\nJOIN country AS o\\nON i.countrycode=o.code\\nGROUP BY o.continent\\n;'"
      ]
     },
     "execution_count": 7,
     "metadata": {},
     "output_type": "execute_result"
    }
   ],
   "source": [
    "\"\"\"\n",
    "SELECT o.continent\n",
    "    , FLOOR(AVG(i.population)) AS ap\n",
    "FROM city AS i\n",
    "JOIN country AS o\n",
    "ON i.countrycode=o.code\n",
    "GROUP BY o.continent\n",
    ";\"\"\"\n"
   ]
  },
  {
   "attachments": {},
   "cell_type": "markdown",
   "metadata": {},
   "source": [
    "## ✔️ The Report\n",
    "### Problem\n",
    "You are given two tables: Students and Grades. Students contains three columns ID, Name and Marks.  \n",
    "![image](https://s3.amazonaws.com/hr-challenge-images/12891/1443818166-a5c852caa0-1.png)  \n",
    "Grades contains the following data:  \n",
    "![image](https://s3.amazonaws.com/hr-challenge-images/12891/1443818137-69b76d805c-2.png)  \n",
    "Ketty gives Eve a task to generate a report containing three columns: Name, Grade and Mark. Ketty doesn't want the NAMES of those students who received a grade lower than 8. The report must be in descending order by grade -- i.e. higher grades are entered first. If there is more than one student with the same grade (8-10) assigned to them, order those particular students by their name alphabetically. Finally, if the grade is lower than 8, use \"NULL\" as their name and list them by their grades in descending order. If there is more than one student with the same grade (1-7) assigned to them, order those particular students by their marks in ascending order.  \n",
    "Write a query to help Eve.  \n",
    "**Sample Input**  \n",
    "![image](https://s3.amazonaws.com/hr-challenge-images/12891/1443818093-b79f376ec1-3.png)  \n",
    "**Sample Output**  \n",
    "Maria 10 99  \n",
    "Jane 9 81  \n",
    "Julia 9 88   \n",
    "Scarlet 8 78  \n",
    "NULL 7 63  \n",
    "NULL 7 68  \n",
    "**Note**   \n",
    "Print \"NULL\"  as the name if the grade is less than 8.  \n",
    "**Explanation**  \n",
    "Consider the following table with the grades assigned to the students:  \n",
    "![image](https://s3.amazonaws.com/hr-challenge-images/12891/1443818026-0b3af8db30-4.png)  \n",
    "So, the following students got 8, 9 or 10 grades:  \n",
    "- Maria (grade 10)\n",
    "- Jane (grade 9)\n",
    "- Julia (grade 9)\n",
    "- Scarlet (grade 8)\n",
    "### My answer\n",
    "- grade가 8보다 작으면 name을 null로 표시\n",
    "- grade 기준 desc, name 기준 asc, marks 기준 asc 정렬\n",
    "- name, grade, marks 만 조회해서 추출\n",
    "- marks가 min mark와 max mark 사이에 있다는 조건을 키로 students와 grades 테이블을 join"
   ]
  },
  {
   "cell_type": "code",
   "execution_count": 8,
   "metadata": {},
   "outputs": [
    {
     "data": {
      "text/plain": [
       "'\\nSELECT IF(grade<8, NULL, s.name) AS name, g.grade, s.marks\\nFROM students AS s\\nJOIN grades AS g\\nON s.marks BETWEEN g.min_mark AND g.max_mark\\nORDER BY g.grade DESC, s.name, s.marks\\n;'"
      ]
     },
     "execution_count": 8,
     "metadata": {},
     "output_type": "execute_result"
    }
   ],
   "source": [
    "\"\"\"\n",
    "SELECT IF(grade<8, NULL, s.name) AS name, g.grade, s.marks\n",
    "FROM students AS s\n",
    "JOIN grades AS g\n",
    "ON s.marks BETWEEN g.min_mark AND g.max_mark\n",
    "ORDER BY g.grade DESC, s.name, s.marks\n",
    ";\"\"\"\n"
   ]
  },
  {
   "cell_type": "code",
   "execution_count": null,
   "metadata": {},
   "outputs": [],
   "source": []
  }
 ],
 "metadata": {
  "kernelspec": {
   "display_name": "Python 3.10.8 64-bit",
   "language": "python",
   "name": "python3"
  },
  "language_info": {
   "codemirror_mode": {
    "name": "ipython",
    "version": 3
   },
   "file_extension": ".py",
   "mimetype": "text/x-python",
   "name": "python",
   "nbconvert_exporter": "python",
   "pygments_lexer": "ipython3",
   "version": "3.10.8"
  },
  "orig_nbformat": 4,
  "vscode": {
   "interpreter": {
    "hash": "aee8b7b246df8f9039afb4144a1f6fd8d2ca17a180786b69acc140d282b71a49"
   }
  }
 },
 "nbformat": 4,
 "nbformat_minor": 2
}
