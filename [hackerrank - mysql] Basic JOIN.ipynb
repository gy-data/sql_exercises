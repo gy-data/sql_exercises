{
 "cells": [
  {
   "attachments": {},
   "cell_type": "markdown",
   "metadata": {},
   "source": [
    "## ✔️ Population Census\n",
    "### Problem\n",
    "Given the CITY and COUNTRY tables, query the sum of the populations of all cities where the CONTINENT is 'Asia'.  \n",
    "  \n",
    "**Note**: CITY.CountryCode and COUNTRY.Code are matching key columns.  \n",
    "  \n",
    "**Input Format**  \n",
    "The CITY and COUNTRY tables are described as follows:  \n",
    "![image](https://s3.amazonaws.com/hr-challenge-images/8137/1449729804-f21d187d0f-CITY.jpg)  \n",
    "![image](https://s3.amazonaws.com/hr-challenge-images/8342/1449769013-e54ce90480-Country.jpg)  \n",
    "### My answer\n",
    "- city 테이블의 population을 sum 함수로 합하여 추출\n",
    "- city의 countrycode와 country의 code를 키로 사용해서 JOIN\n",
    "- continent가 asia인 데이터만 where 사용해서 필터링\n"
   ]
  },
  {
   "cell_type": "code",
   "execution_count": 5,
   "metadata": {},
   "outputs": [
    {
     "data": {
      "text/plain": [
       "\"\\nSELECT SUM(i.population)\\nFROM city AS i\\nJOIN country AS o\\nON o.code = i.countrycode\\nWHERE o.continent = 'asia'\\n;\""
      ]
     },
     "execution_count": 5,
     "metadata": {},
     "output_type": "execute_result"
    }
   ],
   "source": [
    "\"\"\"\n",
    "SELECT SUM(i.population)\n",
    "FROM city AS i\n",
    "JOIN country AS o\n",
    "ON o.code = i.countrycode\n",
    "WHERE o.continent = 'asia'\n",
    ";\"\"\"\n"
   ]
  },
  {
   "attachments": {},
   "cell_type": "markdown",
   "metadata": {},
   "source": [
    "## ✔️ African Cities\n",
    "### Problem\n",
    "Given the CITY and COUNTRY tables, query the names of all cities where the CONTINENT is 'Africa'.  \n",
    "  \n",
    "**Note**: CITY.CountryCode and COUNTRY.Code are matching key columns.  \n",
    "  \n",
    "Input Format  \n",
    "The CITY and COUNTRY tables are described as follows:  \n",
    "![image](https://s3.amazonaws.com/hr-challenge-images/8137/1449729804-f21d187d0f-CITY.jpg)  \n",
    "![image](https://s3.amazonaws.com/hr-challenge-images/8342/1449769013-e54ce90480-Country.jpg)\n",
    "### My answer\n",
    "- city 테이블의 name만 조회\n",
    "- city의 countrycode와 country의 code를 키로 사용해서 JOIN\n",
    "- continent가 africa인 데이터만 where 사용해서 필터링"
   ]
  },
  {
   "cell_type": "code",
   "execution_count": 6,
   "metadata": {},
   "outputs": [
    {
     "data": {
      "text/plain": [
       "\"\\nSELECT ci.name\\nFROM city as ci\\nJOIN country as co\\nON ci.countrycode=co.code\\nWHERE co.continent = 'africa'\\n;\""
      ]
     },
     "execution_count": 6,
     "metadata": {},
     "output_type": "execute_result"
    }
   ],
   "source": [
    "\"\"\"\n",
    "SELECT ci.name\n",
    "FROM city as ci\n",
    "JOIN country as co\n",
    "ON ci.countrycode=co.code\n",
    "WHERE co.continent = 'africa'\n",
    ";\"\"\"\n"
   ]
  },
  {
   "attachments": {},
   "cell_type": "markdown",
   "metadata": {},
   "source": [
    "## ✔️ Average Population of Each Continent\n",
    "### Problem\n",
    "Given the CITY and COUNTRY tables, query the names of all the continents (COUNTRY.Continent) and their respective average city populations (CITY.Population) rounded down to the nearest integer.  \n",
    "  \n",
    "**Note**: CITY.CountryCode and COUNTRY.Code are matching key columns.  \n",
    "  \n",
    "**Input Format**  \n",
    "The CITY and COUNTRY tables are described as follows:  \n",
    "![image](https://s3.amazonaws.com/hr-challenge-images/8137/1449729804-f21d187d0f-CITY.jpg)  \n",
    "![image](https://s3.amazonaws.com/hr-challenge-images/8342/1449769013-e54ce90480-Country.jpg)\n",
    "### My answer\n",
    "- country테이블의 continent은 null값 없이 조회\n",
    "- city테이블의 countrycode와 country테이블의 code를 키로 사용해서 JOIN\n",
    "- continent를 그룹화하여 population의 평균을 avg함수로 구한 다음 floor 함수를 사용해 소수점 이하 버림"
   ]
  },
  {
   "cell_type": "code",
   "execution_count": 7,
   "metadata": {},
   "outputs": [
    {
     "data": {
      "text/plain": [
       "'\\nSELECT o.continent\\n    , FLOOR(AVG(i.population)) AS ap\\nFROM city AS i\\nJOIN country AS o\\nON i.countrycode=o.code\\nGROUP BY o.continent\\n;'"
      ]
     },
     "execution_count": 7,
     "metadata": {},
     "output_type": "execute_result"
    }
   ],
   "source": [
    "\"\"\"\n",
    "SELECT o.continent\n",
    "    , FLOOR(AVG(i.population)) AS ap\n",
    "FROM city AS i\n",
    "JOIN country AS o\n",
    "ON i.countrycode=o.code\n",
    "GROUP BY o.continent\n",
    ";\"\"\"\n"
   ]
  },
  {
   "attachments": {},
   "cell_type": "markdown",
   "metadata": {},
   "source": [
    "## ✔️ The Report\n",
    "### Problem\n",
    "You are given two tables: Students and Grades. Students contains three columns ID, Name and Marks.  \n",
    "![image](https://s3.amazonaws.com/hr-challenge-images/12891/1443818166-a5c852caa0-1.png)  \n",
    "Grades contains the following data:  \n",
    "![image](https://s3.amazonaws.com/hr-challenge-images/12891/1443818137-69b76d805c-2.png)  \n",
    "Ketty gives Eve a task to generate a report containing three columns: Name, Grade and Mark. Ketty doesn't want the NAMES of those students who received a grade lower than 8. The report must be in descending order by grade -- i.e. higher grades are entered first. If there is more than one student with the same grade (8-10) assigned to them, order those particular students by their name alphabetically. Finally, if the grade is lower than 8, use \"NULL\" as their name and list them by their grades in descending order. If there is more than one student with the same grade (1-7) assigned to them, order those particular students by their marks in ascending order.  \n",
    "Write a query to help Eve.  \n",
    "**Sample Input**  \n",
    "![image](https://s3.amazonaws.com/hr-challenge-images/12891/1443818093-b79f376ec1-3.png)  \n",
    "**Sample Output**  \n",
    "Maria 10 99  \n",
    "Jane 9 81  \n",
    "Julia 9 88   \n",
    "Scarlet 8 78  \n",
    "NULL 7 63  \n",
    "NULL 7 68  \n",
    "**Note**   \n",
    "Print \"NULL\"  as the name if the grade is less than 8.  \n",
    "**Explanation**  \n",
    "Consider the following table with the grades assigned to the students:  \n",
    "![image](https://s3.amazonaws.com/hr-challenge-images/12891/1443818026-0b3af8db30-4.png)  \n",
    "So, the following students got 8, 9 or 10 grades:  \n",
    "- Maria (grade 10)\n",
    "- Jane (grade 9)\n",
    "- Julia (grade 9)\n",
    "- Scarlet (grade 8)\n",
    "### My answer\n",
    "- grade가 8보다 작으면 name을 null로 표시\n",
    "- grade 기준 desc, name 기준 asc, marks 기준 asc 정렬\n",
    "- name, grade, marks 만 조회해서 추출\n",
    "- marks가 min mark와 max mark 사이에 있다는 조건을 키로 students와 grades 테이블을 join"
   ]
  },
  {
   "cell_type": "code",
   "execution_count": 8,
   "metadata": {},
   "outputs": [
    {
     "data": {
      "text/plain": [
       "'\\nSELECT IF(grade<8, NULL, s.name) AS name, g.grade, s.marks\\nFROM students AS s\\nJOIN grades AS g\\nON s.marks BETWEEN g.min_mark AND g.max_mark\\nORDER BY g.grade DESC, s.name, s.marks\\n;'"
      ]
     },
     "execution_count": 8,
     "metadata": {},
     "output_type": "execute_result"
    }
   ],
   "source": [
    "\"\"\"\n",
    "SELECT IF(grade<8, NULL, s.name) AS name, g.grade, s.marks\n",
    "FROM students AS s\n",
    "JOIN grades AS g\n",
    "ON s.marks BETWEEN g.min_mark AND g.max_mark\n",
    "ORDER BY g.grade DESC, s.name, s.marks\n",
    ";\"\"\"\n"
   ]
  },
  {
   "attachments": {},
   "cell_type": "markdown",
   "metadata": {},
   "source": [
    "## ✔️ Top Competitors\n",
    "### Problem\n",
    "Julia just finished conducting a coding contest, and she needs your help assembling the leaderboard! Write a query to print the respective hacker_id and name of hackers who achieved full scores for more than one challenge. Order your output in descending order by the total number of challenges in which the hacker earned a full score. If more than one hacker received full scores in same number of challenges, then sort them by ascending hacker_id.  \n",
    "  \n",
    "**Input Format**  \n",
    "The following tables contain contest data:  \n",
    "- Hackers: The hacker_id is the id of the hacker, and name is the name of the hacker.   \n",
    "![image](https://s3.amazonaws.com/hr-challenge-images/19504/1458526776-67667350b4-ScreenShot2016-03-21at7.45.59AM.png)  \n",
    "- Difficulty: The difficult_level is the level of difficulty of the challenge, and score is the score of the challenge for the difficulty level.   \n",
    "![image](https://s3.amazonaws.com/hr-challenge-images/19504/1458526915-57eb75d9a2-ScreenShot2016-03-21at7.46.09AM.png)  \n",
    "- Challenges: The challenge_id is the id of the challenge, the hacker_id is the id of the hacker who created the challenge, and difficulty_level is the level of difficulty of the challenge.  \n",
    "![image](https://s3.amazonaws.com/hr-challenge-images/19504/1458527032-f9ca650442-ScreenShot2016-03-21at7.46.17AM.png)  \n",
    "- Submissions: The submission_id is the id of the submission, hacker_id is the id of the hacker who made the submission, challenge_id is the id of the challenge that the submission belongs to, and score is the score of the submission.   \n",
    "![image](https://s3.amazonaws.com/hr-challenge-images/19504/1458527077-298f8e922a-ScreenShot2016-03-21at7.46.29AM.png)  \n",
    "  \n",
    "**Sample Input**  \n",
    "- Hackers Table:  \n",
    "![image](https://s3.amazonaws.com/hr-challenge-images/19504/1458527241-6922b4ad87-ScreenShot2016-03-21at7.47.02AM.png)  \n",
    "- Difficulty Table:  \n",
    "![image](https://s3.amazonaws.com/hr-challenge-images/19504/1458527265-7ad6852a13-ScreenShot2016-03-21at7.46.50AM.png)  \n",
    "- Challenges Table:  \n",
    "![image](https://s3.amazonaws.com/hr-challenge-images/19504/1458527285-01e95eb6ec-ScreenShot2016-03-21at7.46.40AM.png)  \n",
    "- Submissions Table:  \n",
    "![image](https://s3.amazonaws.com/hr-challenge-images/19504/1458527812-479a74b99f-ScreenShot2016-03-21at8.06.05AM.png)  \n",
    "  \n",
    "**Sample Output**  \n",
    "90411 Joe  \n",
    "  \n",
    "**Explanation**  \n",
    "- Hacker 86870 got a score of 30 for challenge 71055 with a difficulty level of 2, so 86870 earned a full score for this challenge.\n",
    "- Hacker 90411 got a score of 30 for challenge 71055 with a difficulty level of 2, so 90411 earned a full score for this challenge.\n",
    "- Hacker 90411 got a score of 100 for challenge 66730 with a difficulty level of 6, so 90411 earned a full score for this challenge.\n",
    "- Only hacker 90411 managed to earn a full score for more than one challenge, so we print the their hacker_id and name as  space-separated values.\n",
    "### My answer\n",
    "- full score인 사람만 찾기 위해 s.score와 d.score이 같은 것만 필터링\n",
    "- hacker_id, name으로 그룹화해서 count(hacker_id) > 1인 것만 필터링\n",
    "- submission Table에서 hacker id가 2개 이상이고 \n",
    "- hacker_id, 이름만 조회\n",
    "- count(challenge_id) 기준 desc, hacker_id 기준 asc 정렬"
   ]
  },
  {
   "cell_type": "code",
   "execution_count": 1,
   "metadata": {},
   "outputs": [
    {
     "data": {
      "text/plain": [
       "'\\nSELECT h.hacker_id, h.name\\nFROM submissions AS s\\nINNER JOIN hackers AS h ON s.hacker_id=h.hacker_id\\nINNER JOIN challenges AS c ON s.challenge_id=c.challenge_id\\nINNER JOIN difficulty AS d ON d.difficulty_level=c.difficulty_level\\nWHERE s.score = d.score\\nGROUP BY h.hacker_id, name\\nHAVING COUNT(h.hacker_id) > 1\\nORDER BY COUNT(s.challenge_id) DESC, h.hacker_id\\n;'"
      ]
     },
     "execution_count": 1,
     "metadata": {},
     "output_type": "execute_result"
    }
   ],
   "source": [
    "\"\"\"\n",
    "SELECT h.hacker_id, h.name\n",
    "FROM submissions AS s\n",
    "INNER JOIN hackers AS h ON s.hacker_id=h.hacker_id\n",
    "INNER JOIN challenges AS c ON s.challenge_id=c.challenge_id\n",
    "INNER JOIN difficulty AS d ON d.difficulty_level=c.difficulty_level\n",
    "WHERE s.score = d.score\n",
    "GROUP BY h.hacker_id, name\n",
    "HAVING COUNT(h.hacker_id) > 1\n",
    "ORDER BY COUNT(s.challenge_id) DESC, h.hacker_id\n",
    ";\"\"\"\n"
   ]
  },
  {
   "attachments": {},
   "cell_type": "markdown",
   "metadata": {},
   "source": [
    "## ✔️ Ollivander's Inventory\n",
    "### Problem\n",
    "Harry Potter and his friends are at Ollivander's with Ron, finally replacing Charlie's old broken wand.  \n",
    "Hermione decides the best way to choose is by determining the minimum number of gold galleons needed to buy each non-evil wand of high power and age. Write a query to print the id, age, coins_needed, and power of the wands that Ron's interested in, sorted in order of descending power. If more than one wand has same power, sort the result in order of descending age.  \n",
    "  \n",
    "**Input Format**  \n",
    "The following tables contain data on the wands in Ollivander's inventory:  \n",
    "-Wands: The id is the id of the wand, code is the code of the wand, coins_needed is the total number of gold galleons needed to buy the wand, and power denotes the quality of the wand (the higher the power, the better the wand is).  \n",
    "![image](https://s3.amazonaws.com/hr-challenge-images/19502/1458538092-b2a8163a74-ScreenShot2016-03-08at12.13.39AM.png)  \n",
    "-Wands_Property: The code is the code of the wand, age is the age of the wand, and is_evil denotes whether the wand is good for the dark arts. If the value of is_evil is 0, it means that the wand is not evil. The mapping between code and age is one-one, meaning that if there are two pairs, **(code1, age1)** and **(code2, age2)**, then **code1 != code2** and **age1 != age2**.  \n",
    "![image](https://s3.amazonaws.com/hr-challenge-images/19502/1458538221-18c4092b7d-ScreenShot2016-03-08at12.13.53AM.png)  \n",
    "  \n",
    "**Sample Input**  \n",
    "Wands Table:   \n",
    "![image](https://s3.amazonaws.com/hr-challenge-images/19502/1458538559-51bf29644e-ScreenShot2016-03-21at10.34.41AM.png)  \n",
    "Wands_Property Table:  \n",
    "![image](https://s3.amazonaws.com/hr-challenge-images/19502/1458538583-fd514566f9-ScreenShot2016-03-21at10.34.28AM.png)  \n",
    "  \n",
    "**Sample Output**  \n",
    "9 45 1647 10  \n",
    "12 17 9897 10  \n",
    "1 20 3688 8  \n",
    "15 40 6018 7  \n",
    "19 20 7651 6  \n",
    "11 40 7587 5  \n",
    "10 20 504 5  \n",
    "18 40 3312 3  \n",
    "20 17 5689 3  \n",
    "5 45 6020 2  \n",
    "14 40 5408 1  \n",
    "  \n",
    "**Explanation**  \n",
    "The data for wands of age 45 (code 1):  \n",
    "![image](https://s3.amazonaws.com/hr-challenge-images/19502/1458539700-2f319702ab-ScreenShot2016-03-21at11.23.06AM.png)  \n",
    "-The minimum number of galleons needed for **wand(age=45, power=2) = 6020**  \n",
    "-The minimum number of galleons needed for **wand(age=45, power=10) = 1647**  \n",
    "The data for wands of age 40 (code 2):  \n",
    "![image](https://s3.amazonaws.com/hr-challenge-images/19502/1458539909-ab79f7ff95-ScreenShot2016-03-21at11.23.14AM.png)  \n",
    "-The minimum number of galleons needed for **wand(age=40, power=1) = 5408**  \n",
    "-The minimum number of galleons needed for **wand(age=40, power=3) = 3312**  \n",
    "-The minimum number of galleons needed for **wand(age=40, power=5) = 7587**  \n",
    "-The minimum number of galleons needed for **wand(age=40, power=7) = 6018**  \n",
    "The data for wands of age 20 (code 4):  \n",
    "![image](https://s3.amazonaws.com/hr-challenge-images/19502/1458540035-d950b9c900-ScreenShot2016-03-21at11.23.25AM.png)  \n",
    "-The minimum number of galleons needed for **wand(age=20, power=5) = 504**  \n",
    "-The minimum number of galleons needed for **wand(age=20, power=6) = 7651**  \n",
    "-The minimum number of galleons needed for **wand(age=20, power=8) = 3688**  \n",
    "The data for wands of age 17 (code 5):  \n",
    "![image](https://s3.amazonaws.com/hr-challenge-images/19502/1458540132-79fd7b916b-ScreenShot2016-03-21at11.23.34AM.png)  \n",
    "-The minimum number of galleons needed for **wand(age=17, power=3) = 5689**  \n",
    "-The minimum number of galleons needed for **wand(age=17, power=10) = 9897**  \n",
    "  \n",
    "### My answer\n",
    "- id, age, coin_needed, power 조회\n",
    "    - is_evil = 0 \n",
    "    - age, power가 각각 같은 것 중 coins_needed가 가장 적은 것 \n",
    "- left join wands and wands_property table on code\n",
    "- order by power desc, age desc"
   ]
  },
  {
   "cell_type": "code",
   "execution_count": 3,
   "metadata": {},
   "outputs": [
    {
     "data": {
      "text/plain": [
       "'\\nSELECT w.id, p.age, w.coins_needed, w.power\\nFROM wands AS w\\nLEFT JOIN wands_property AS p\\nON w.code = p.code\\nWHERE w.coins_needed = (SELECT MIN(coins_needed) \\n                      FROM wands AS wa\\n                      LEFT JOIN wands_property AS pr\\n                      ON wa.code = pr.code\\n                      WHERE p.is_evil = 0\\n                      AND wa.power = w.power\\n                      AND pr.age = p.age)\\nORDER BY w.power DESC, p.age DESC\\n; '"
      ]
     },
     "execution_count": 3,
     "metadata": {},
     "output_type": "execute_result"
    }
   ],
   "source": [
    "\"\"\"\n",
    "SELECT w.id, p.age, w.coins_needed, w.power\n",
    "FROM wands AS w\n",
    "LEFT JOIN wands_property AS p\n",
    "ON w.code = p.code\n",
    "WHERE w.coins_needed = (SELECT MIN(coins_needed) \n",
    "                      FROM wands AS wa\n",
    "                      LEFT JOIN wands_property AS pr\n",
    "                      ON wa.code = pr.code\n",
    "                      WHERE p.is_evil = 0\n",
    "                      AND wa.power = w.power\n",
    "                      AND pr.age = p.age)\n",
    "ORDER BY w.power DESC, p.age DESC\n",
    "; \"\"\""
   ]
  },
  {
   "attachments": {},
   "cell_type": "markdown",
   "metadata": {},
   "source": [
    "## ✔️ Challenges\n",
    "### Problem\n",
    "https://www.hackerrank.com/challenges/challenges/problem?isFullScreen=false  \n",
    "\n",
    "Julia asked her students to create some coding challenges. Write a query to print the hacker_id, name, and the total number of challenges created by each student. Sort your results by the total number of challenges in descending order. If more than one student created the same number of challenges, then sort the result by hacker_id. If more than one student created the same number of challenges and the count is less than the maximum number of challenges created, then exclude those students from the result.\n",
    "\n",
    "**Input Format**  \n",
    "The following tables contain challenge data:  \n",
    "-Hackers: The hacker_id is the id of the hacker, and name is the name of the hacker.  \n",
    "![image](https://s3.amazonaws.com/hr-challenge-images/19506/1458521004-cb4c077dd3-ScreenShot2016-03-21at6.06.54AM.png)  \n",
    "-Challenges: The challenge_id is the id of the challenge, and hacker_id is the id of the student who created the challenge.  \n",
    "![image](https://s3.amazonaws.com/hr-challenge-images/19506/1458521079-549341d9ec-ScreenShot2016-03-21at6.07.03AM.png)  \n",
    "### My answer\n",
    "- hacker_id, name으로 그룹화해서 challenges_created을 count했을 때 1 OR challenges_created를 count한 값이 최대값인 것만 필터링\n",
    "- hacker_id, name, the total number of challenges 조회\n",
    "- the total number of challenges desc, hacker_id asc 정렬"
   ]
  },
  {
   "cell_type": "code",
   "execution_count": 4,
   "metadata": {},
   "outputs": [
    {
     "data": {
      "text/plain": [
       "'\\nSELECT h.hacker_id, h.name, COUNT(c.challenge_id) AS challenges_created\\nFROM challenges AS c\\nJOIN hackers AS h\\nON c.hacker_id = h.hacker_id\\nGROUP BY c.hacker_id, h.name\\nHAVING challenges_created = (SELECT MAX(t1.cnt) \\n                             FROM (SELECT COUNT(challenge_id) AS cnt\\n                                   FROM challenges\\n                                   GROUP BY hacker_id) AS t1)\\nOR challenges_created IN (SELECT c1.cnt \\n                          FROM (SELECT COUNT(challenge_id) AS cnt \\n                                FROM challenges \\n                                GROUP BY hacker_id) AS c1\\n                         GROUP BY c1.cnt\\n                         HAVING COUNT(c1.cnt)=1)\\nORDER BY challenges_created DESC, h.hacker_id\\n;'"
      ]
     },
     "execution_count": 4,
     "metadata": {},
     "output_type": "execute_result"
    }
   ],
   "source": [
    "\"\"\"\n",
    "SELECT h.hacker_id, h.name, COUNT(c.challenge_id) AS challenges_created\n",
    "FROM challenges AS c\n",
    "JOIN hackers AS h\n",
    "ON c.hacker_id = h.hacker_id\n",
    "GROUP BY c.hacker_id, h.name\n",
    "HAVING challenges_created = (SELECT MAX(t1.cnt) \n",
    "                             FROM (SELECT COUNT(challenge_id) AS cnt\n",
    "                                   FROM challenges\n",
    "                                   GROUP BY hacker_id) AS t1)\n",
    "OR challenges_created IN (SELECT c1.cnt \n",
    "                          FROM (SELECT COUNT(challenge_id) AS cnt \n",
    "                                FROM challenges \n",
    "                                GROUP BY hacker_id) AS c1\n",
    "                         GROUP BY c1.cnt\n",
    "                         HAVING COUNT(c1.cnt)=1)\n",
    "ORDER BY challenges_created DESC, h.hacker_id\n",
    ";\"\"\""
   ]
  },
  {
   "attachments": {},
   "cell_type": "markdown",
   "metadata": {},
   "source": [
    "## ✔️ Contest Leaderboard\n",
    "### Problem\n",
    "https://www.hackerrank.com/challenges/contest-leaderboard/problem?isFullScreen=false  \n",
    "You did such a great job helping Julia with her last coding contest challenge that she wants you to work on this one, too!  \n",
    "  \n",
    "The total score of a hacker is the sum of their maximum scores for all of the challenges. Write a query to print the hacker_id, name, and total score of the hackers ordered by the descending score. If more than one hacker achieved the same total score, then sort the result by ascending hacker_id. Exclude all hackers with a total score of **0** from your result.  \n",
    "  \n",
    "**Input Format**  \n",
    "The following tables contain contest data:  \n",
    "-Hackers: The hacker_id is the id of the hacker, and name is the name of the hacker.  \n",
    "![image](https://s3.amazonaws.com/hr-challenge-images/19503/1458522826-a9ddd28469-ScreenShot2016-03-21at6.40.27AM.png)   \n",
    "-Submissions: The submission_id is the id of the submission, hacker_id is the id of the hacker who made the submission, challenge_id is the id of the challenge for which the submission belongs to, and score is the score of the submission.  \n",
    "![image](https://s3.amazonaws.com/hr-challenge-images/19503/1458523022-771511df90-ScreenShot2016-03-21at6.40.37AM.png)\n",
    "### My answer\n",
    "- print hacker_id, name, total score of the challenges\n",
    "- total score of the challenges =  sum of max scores for all of the challenges\n",
    "- sub query : maximum scores for each challenges \n",
    "- group by : hacker_id, challenge_id\n",
    "- order by : score DESC, hacker_id ASC\n",
    "- If total score = 0, exclude from the result"
   ]
  },
  {
   "cell_type": "code",
   "execution_count": 1,
   "metadata": {},
   "outputs": [
    {
     "data": {
      "text/plain": [
       "'\\nSELECT hacker_id, name, SUM(max_score) AS total_score\\nFROM(\\n    SELECT h.hacker_id, h.name, s.challenge_id, MAX(s.score) AS max_score\\n    FROM hackers AS h\\n    JOIN submissions AS s\\n    ON s.hacker_id=h.hacker_id\\n    GROUP BY h.hacker_id, h.name, s.challenge_id\\n    HAVING max_score > 0) AS t\\nGROUP BY hacker_id, name\\nORDER BY SUM(max_score) DESC, hacker_id\\n; '"
      ]
     },
     "execution_count": 1,
     "metadata": {},
     "output_type": "execute_result"
    }
   ],
   "source": [
    "\"\"\"\n",
    "SELECT hacker_id, name, SUM(max_score) AS total_score\n",
    "FROM(\n",
    "    SELECT h.hacker_id, h.name, s.challenge_id, MAX(s.score) AS max_score\n",
    "    FROM hackers AS h\n",
    "    JOIN submissions AS s\n",
    "    ON s.hacker_id=h.hacker_id\n",
    "    GROUP BY h.hacker_id, h.name, s.challenge_id\n",
    "    HAVING max_score > 0) AS t\n",
    "GROUP BY hacker_id, name\n",
    "ORDER BY SUM(max_score) DESC, hacker_id\n",
    "; \"\"\""
   ]
  },
  {
   "cell_type": "code",
   "execution_count": null,
   "metadata": {},
   "outputs": [],
   "source": []
  }
 ],
 "metadata": {
  "kernelspec": {
   "display_name": "Python 3",
   "language": "python",
   "name": "python3"
  },
  "language_info": {
   "codemirror_mode": {
    "name": "ipython",
    "version": 3
   },
   "file_extension": ".py",
   "mimetype": "text/x-python",
   "name": "python",
   "nbconvert_exporter": "python",
   "pygments_lexer": "ipython3",
   "version": "3.11.0"
  },
  "orig_nbformat": 4,
  "vscode": {
   "interpreter": {
    "hash": "df76e625265485bd39c09c1804da6b94c201756de6b2c63317c524cd928e5a08"
   }
  }
 },
 "nbformat": 4,
 "nbformat_minor": 2
}
