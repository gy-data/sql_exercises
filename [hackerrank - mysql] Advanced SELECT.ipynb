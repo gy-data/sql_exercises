{
 "cells": [
  {
   "attachments": {},
   "cell_type": "markdown",
   "metadata": {},
   "source": [
    "## ✔️ Type of Triangle\n",
    "### Problem\n",
    "Write a query identifying the type of each record in the TRIANGLES table using its three side lengths. Output one of the following statements for each record in the table:  \n",
    "- **Equilateral**: It's a triangle with 3 sides of equal length.\n",
    "- **Isosceles**: It's a triangle with 2 sides of equal length.\n",
    "- **Scalene**: It's a triangle with 3 sides of differing lengths.\n",
    "- **Not A Triangle**: The given values of A, B, and C don't form a triangle.\n",
    "    \n",
    "**Input Format**  \n",
    "The TRIANGLES table is described as follows:  \n",
    "![image](https://s3.amazonaws.com/hr-challenge-images/12887/1443815629-ac2a843fb7-1.png)  \n",
    "Each row in the table denotes the lengths of each of a triangle's three sides.  \n",
    "  \n",
    "**Sample Input**  \n",
    "![image](https://s3.amazonaws.com/hr-challenge-images/12887/1443815827-cbfc1ca12b-2.png)  \n",
    "  \n",
    "**Explanation**  \n",
    "Values in the tuple (20, 20, 23) form an Isosceles triangle, because **A=B**.  \n",
    "Values in the tuple (20, 20, 20) form an Equilateral triangle, because **A=B=C**.  \n",
    "Values in the tuple (20, 21, 22) form a Scalene triangle, because **A!=B!=C**.  \n",
    "Values in the tuple (13, 14, 30) cannot form a triangle because the combined value of sides **A** and **B** is not larger than that of side **C**.\n",
    "### My answer\n",
    "- case문 사용\n",
    "- A=B=C면, Equilateral // A=B면, Isosceles // A!=B!=C면 Scalene // A+B이 C보다 작으면 Not A Triangle\n",
    "-  삼각형 이름만 조회"
   ]
  },
  {
   "cell_type": "code",
   "execution_count": 1,
   "metadata": {},
   "outputs": [
    {
     "data": {
      "text/plain": [
       "\"\\nSELECT CASE WHEN a+b<=c OR a+c<=b OR b+c<=a THEN 'Not A Triangle'\\n        WHEN a=b AND b=c AND c=a THEN 'Equilateral'\\n        WHEN (a=b AND b!=c) OR (a=c AND b!=c) OR (b=c AND a!=c) THEN 'Isosceles' \\n        ELSE 'Scalene'\\n    END\\nFROM triangles\\n;\""
      ]
     },
     "execution_count": 1,
     "metadata": {},
     "output_type": "execute_result"
    }
   ],
   "source": [
    "\"\"\"\n",
    "SELECT CASE WHEN a+b<=c OR a+c<=b OR b+c<=a THEN 'Not A Triangle'\n",
    "        WHEN a=b AND b=c AND c=a THEN 'Equilateral'\n",
    "        WHEN (a=b AND b!=c) OR (a=c AND b!=c) OR (b=c AND a!=c) THEN 'Isosceles' \n",
    "        ELSE 'Scalene'\n",
    "    END\n",
    "FROM triangles\n",
    ";\"\"\"\n"
   ]
  },
  {
   "attachments": {},
   "cell_type": "markdown",
   "metadata": {},
   "source": [
    "## ✔️ The PADS\n",
    "### Problem\n",
    "Generate the following two result sets:  \n",
    "  \n",
    "1. Query an alphabetically ordered list of all names in OCCUPATIONS, immediately followed by the first letter of each profession as a parenthetical (i.e.: enclosed in parentheses). For example: AnActorName(A), ADoctorName(D), AProfessorName(P), and ASingerName(S).  \n",
    "  \n",
    "2. Query the number of ocurrences of each occupation in OCCUPATIONS. Sort the occurrences in ascending order, and output them in the following format:  \n",
    "There are a total of [occupation_count] [occupation]s.  \n",
    "  \n",
    "where [occupation_count] is the number of occurrences of an occupation in OCCUPATIONS and [occupation] is the lowercase occupation name. If more than one Occupation has the same [occupation_count], they should be ordered alphabetically.  \n",
    "  \n",
    "**Note**: There will be at least two entries in the table for each type of occupation.  \n",
    "  \n",
    "**Input Format**  \n",
    "The OCCUPATIONS table is described as follows:  \n",
    "![image](https://s3.amazonaws.com/hr-challenge-images/12889/1443816414-2a465532e7-1.png)  \n",
    "Occupation will only contain one of the following values: Doctor, Professor, Singer or Actor.  \n",
    "  \n",
    "**Sample Input**  \n",
    "An OCCUPATIONS table that contains the following records:  \n",
    "![image](https://s3.amazonaws.com/hr-challenge-images/12889/1443816608-0b4d01d157-2.png)  \n",
    "  \n",
    "**Explanation**  \n",
    "The results of the first query are formatted to the problem description's specifications.  \n",
    "The results of the second query are ascendingly ordered first by number of names corresponding to each profession ( 2 <= 2 <= 3 <= 3 ), and then alphabetically by profession ( doctor <= singer, and actor <= professor ).  \n",
    "### My answer\n",
    "- concat으로 '이름(직업첫글자)'으로 합쳐서 조회\n",
    "- 이름 기준 asc, 직업 기준 asc 정렬  \n",
    "  \n",
    "- concat으로 'There are a total of 직업별인원수 직업s'로 합쳐서 조회\n",
    "- occupation은 모두 소문자로 추출되도록 lower함수 사용\n",
    "- 직업별인원수 기준 asc, 직업 기준 asc 정렬"
   ]
  },
  {
   "cell_type": "code",
   "execution_count": 2,
   "metadata": {},
   "outputs": [
    {
     "data": {
      "text/plain": [
       "'\\nSELECT CONCAT(name, \"(\", LEFT(occupation, 1), \")\")\\nFROM occupations\\nORDER BY name, occupation\\n;\\nSELECT CONCAT(\"There are a total of \", COUNT(occupation), \" \", LOWER(occupation), \"s.\")\\nFROM occupations\\nGROUP BY occupation\\nORDER BY COUNT(occupation), occupation\\n;'"
      ]
     },
     "execution_count": 2,
     "metadata": {},
     "output_type": "execute_result"
    }
   ],
   "source": [
    "\"\"\"\n",
    "SELECT CONCAT(name, \"(\", LEFT(occupation, 1), \")\")\n",
    "FROM occupations\n",
    "ORDER BY name, occupation\n",
    ";\n",
    "SELECT CONCAT(\"There are a total of \", COUNT(occupation), \" \", LOWER(occupation), \"s.\")\n",
    "FROM occupations\n",
    "GROUP BY occupation\n",
    "ORDER BY COUNT(occupation), occupation\n",
    ";\"\"\"\n"
   ]
  },
  {
   "attachments": {},
   "cell_type": "markdown",
   "metadata": {},
   "source": [
    "## ✔️ Occupations\n",
    "### Problem\n",
    "Pivot the Occupation column in OCCUPATIONS so that each Name is sorted alphabetically and displayed underneath its corresponding Occupation. The output column headers should be Doctor, Professor, Singer, and Actor, respectively.  \n",
    "  \n",
    "**Note**: Print NULL when there are no more names corresponding to an occupation.  \n",
    "  \n",
    "**Input Format**  \n",
    "The OCCUPATIONS table is described as follows:  \n",
    "![image](https://s3.amazonaws.com/hr-challenge-images/12889/1443816414-2a465532e7-1.png)  \n",
    "Occupation will only contain one of the following values: Doctor, Professor, Singer or Actor.  \n",
    "  \n",
    "**Sample Input**  \n",
    "![image](https://s3.amazonaws.com/hr-challenge-images/12890/1443817648-1b2b8add45-2.png)  \n",
    "   \n",
    "**Explanation**  \n",
    "The first column is an alphabetically ordered list of Doctor names.  \n",
    "The second column is an alphabetically ordered list of Professor names.  \n",
    "The third column is an alphabetically ordered list of Singer names.  \n",
    "The fourth column is an alphabetically ordered list of Actor names.  \n",
    "The empty cell data for columns with less than the maximum number of names per occupation (in this case, the Professor and Actor columns) are filled with **NULL** values.  \n",
    "### My anwser\n",
    "- doctor / professor / singer / actor 순으로 직업 아래에 이름이 표시되도록 피벗\n",
    "- 이름에 따라 asc 정렬"
   ]
  },
  {
   "cell_type": "code",
   "execution_count": 2,
   "metadata": {},
   "outputs": [
    {
     "data": {
      "text/plain": [
       "'\\nSELECT MAX(IF(occupation=\"Doctor\", name, NULL))\\n    , MAX(IF(occupation=\"Professor\", name, NULL))\\n    , MAX(IF(occupation=\"Singer\", name, NULL))\\n    , MAX(IF(occupation=\"Actor\", name, NULL))\\nFROM (SELECT name, occupation\\n      , ROW_NUMBER() OVER(PARTITION BY occupation ORDER BY name) AS rn\\n      FROM occupations) AS t\\nGROUP BY t.rn\\n;'"
      ]
     },
     "execution_count": 2,
     "metadata": {},
     "output_type": "execute_result"
    }
   ],
   "source": [
    "\"\"\"\n",
    "SELECT MAX(IF(occupation=\"Doctor\", name, NULL))\n",
    "    , MAX(IF(occupation=\"Professor\", name, NULL))\n",
    "    , MAX(IF(occupation=\"Singer\", name, NULL))\n",
    "    , MAX(IF(occupation=\"Actor\", name, NULL))\n",
    "FROM (SELECT name, occupation\n",
    "      , ROW_NUMBER() OVER(PARTITION BY occupation ORDER BY name) AS rn\n",
    "      FROM occupations) AS t\n",
    "GROUP BY t.rn\n",
    ";\"\"\"\n"
   ]
  },
  {
   "cell_type": "markdown",
   "metadata": {},
   "source": [
    "## ✔️ Binary Tree Nodes\n",
    "### Problem\n",
    "You are given a table, BST, containing two columns: N and P, where N represents the value of a node in Binary Tree, and P is the parent of N.  \n",
    "![image](https://s3.amazonaws.com/hr-challenge-images/12888/1443818507-5095ab9853-1.png)\n",
    "Write a query to find the node type of Binary Tree ordered by the value of the node. Output one of the following for each node:  \n",
    "- Root: If node is root node.\n",
    "- Leaf: If node is leaf node.\n",
    "- Inner: If node is neither root nor leaf node.  \n",
    "  \n",
    "**Sample Input**  \n",
    "![image](https://s3.amazonaws.com/hr-challenge-images/12888/1443818467-30644673f6-2.png)  \n",
    "  \n",
    "**Explanation**  \n",
    "The Binary Tree below illustrates the sample:  \n",
    "![image](https://s3.amazonaws.com/hr-challenge-images/12888/1443773633-f9e6fd314e-simply_sql_bst.png)\n",
    "### My answer\n",
    "- Binary tree( 이진 트리 ) : 비선형 자료구조\n",
    "    - Root node : 부모가 없는 노드, 트리는 단 하나의 루트 노드 가짐\n",
    "    - Leaf node : 자식이 없는 노드, terminal node라고도 부름\n",
    "    - inner : 루트 노드도 아니고 단말 노드도 아닌 노드\n",
    "- p가 null이면 root\n",
    "- n이 p에 없으면 inner\n",
    "- 나머지는 leaf"
   ]
  },
  {
   "cell_type": "code",
   "execution_count": 3,
   "metadata": {},
   "outputs": [
    {
     "data": {
      "text/plain": [
       "\"\\nSELECT n\\n    , CASE WHEN p IS NULL THEN 'Root'\\n        WHEN n NOT IN(SELECT DISTINCT p FROM BST WHERE p IS NOT NULL) THEN 'Leaf'\\n        ELSE 'Inner'\\n      END\\nFROM BST\\nORDER BY n\\n;\""
      ]
     },
     "execution_count": 3,
     "metadata": {},
     "output_type": "execute_result"
    }
   ],
   "source": [
    "\"\"\"\n",
    "SELECT n\n",
    "    , CASE WHEN p IS NULL THEN 'Root'\n",
    "        WHEN n NOT IN(SELECT DISTINCT p FROM BST WHERE p IS NOT NULL) THEN 'Leaf'\n",
    "        ELSE 'Inner'\n",
    "      END\n",
    "FROM BST\n",
    "ORDER BY n\n",
    ";\"\"\"\n"
   ]
  },
  {
   "cell_type": "code",
   "execution_count": null,
   "metadata": {},
   "outputs": [],
   "source": []
  }
 ],
 "metadata": {
  "kernelspec": {
   "display_name": "Python 3.10.8 64-bit",
   "language": "python",
   "name": "python3"
  },
  "language_info": {
   "codemirror_mode": {
    "name": "ipython",
    "version": 3
   },
   "file_extension": ".py",
   "mimetype": "text/x-python",
   "name": "python",
   "nbconvert_exporter": "python",
   "pygments_lexer": "ipython3",
   "version": "3.10.8 (v3.10.8:aaaf517424, Oct 11 2022, 10:14:40) [Clang 13.0.0 (clang-1300.0.29.30)]"
  },
  "orig_nbformat": 4,
  "vscode": {
   "interpreter": {
    "hash": "aee8b7b246df8f9039afb4144a1f6fd8d2ca17a180786b69acc140d282b71a49"
   }
  }
 },
 "nbformat": 4,
 "nbformat_minor": 2
}
