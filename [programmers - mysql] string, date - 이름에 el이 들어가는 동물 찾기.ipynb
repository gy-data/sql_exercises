{
 "cells": [
  {
   "cell_type": "markdown",
   "metadata": {},
   "source": [
    "# 이름에 el이 들어가는 동물 찾기"
   ]
  },
  {
   "cell_type": "markdown",
   "metadata": {},
   "source": [
    "## 문제"
   ]
  },
  {
   "cell_type": "markdown",
   "metadata": {},
   "source": [
    "![image](https://postfiles.pstatic.net/MjAyMTA4MjlfMTc4/MDAxNjMwMjIyMjYwNzkx.YLhJoUTEvgXlu8C_8zyl5q6imRkOmyBs-16mvDy_0FEg.0ZYmEgQyOhrzRlfM8JAPA4LR1hF-18YbWCghW6GVwiog.PNG.joonbread/image.png?type=w580)\n",
    "![image](https://postfiles.pstatic.net/MjAyMTA4MjlfMTA2/MDAxNjMwMjIyMjY3MDIw.AQ8P3z5ztCMdEYZUyWKUwVr_hq6hv1ud684pNV4yWygg.5CqR2GINvQXDixd-j5y4m5Je5EW75vgN68nhwxxkqP0g.PNG.joonbread/image.png?type=w580)"
   ]
  },
  {
   "cell_type": "markdown",
   "metadata": {},
   "source": [
    "## 접근"
   ]
  },
  {
   "cell_type": "code",
   "execution_count": null,
   "metadata": {},
   "outputs": [],
   "source": [
    "# "
   ]
  }
 ],
 "metadata": {
  "kernelspec": {
   "display_name": "Python 3.10.8 64-bit",
   "language": "python",
   "name": "python3"
  },
  "language_info": {
   "name": "python",
   "version": "3.10.8"
  },
  "orig_nbformat": 4,
  "vscode": {
   "interpreter": {
    "hash": "aee8b7b246df8f9039afb4144a1f6fd8d2ca17a180786b69acc140d282b71a49"
   }
  }
 },
 "nbformat": 4,
 "nbformat_minor": 2
}
